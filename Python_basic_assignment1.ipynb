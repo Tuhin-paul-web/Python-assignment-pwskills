{
  "nbformat": 4,
  "nbformat_minor": 0,
  "metadata": {
    "colab": {
      "provenance": []
    },
    "kernelspec": {
      "name": "python3",
      "display_name": "Python 3"
    },
    "language_info": {
      "name": "python"
    }
  },
  "cells": [
    {
      "cell_type": "markdown",
      "source": [
        "**Question** 1)Explain the key features of Python that make it a popular choice for programming.\n",
        " Ans: Python is popular for programming because of it widly used in industry like data industry,forntent backent data industry,data analyais etc. Some key feature of python are as follow:\n",
        " i)Easy to learn\n",
        " ii)Versatility and Extensibility\n",
        " iii)A lot of liabery\n",
        " iv)Huge active community\n",
        "\n"
      ],
      "metadata": {
        "id": "RSXV07B08D6Z"
      }
    },
    {
      "cell_type": "markdown",
      "source": [],
      "metadata": {
        "id": "m3nAUXJz7-8U"
      }
    },
    {
      "cell_type": "markdown",
      "source": [
        "**Question 2**)Describe the role of predefined keywords in Python and provide examples of how they are used in a\n",
        "program.\n",
        "Ans:In Python, predefined keywords (often referred to simply as keywords) are reserved words that have special meaning in the language. These words cannot be used as identifiers (such as variable names, function names, or class names) because they are integral to the syntax and functionality of Python.as\n",
        "i)Number are Integers and Float.\n",
        "ii)Character are string in python.\n",
        "iii)True/False are used as Boolean value.\n",
        "iv)None is define as none.\n",
        "Example are as follws:\n"
      ],
      "metadata": {
        "id": "DjbzG6Vh9C9Z"
      }
    },
    {
      "cell_type": "code",
      "source": [],
      "metadata": {
        "id": "_ofhXZGJfuzU"
      },
      "execution_count": null,
      "outputs": []
    },
    {
      "cell_type": "markdown",
      "source": [],
      "metadata": {
        "id": "Uo_w6Pv-ft_V"
      }
    },
    {
      "cell_type": "code",
      "source": [],
      "metadata": {
        "id": "_hdrJSmTfud9"
      },
      "execution_count": null,
      "outputs": []
    },
    {
      "cell_type": "code",
      "source": [
        "name = \"Tuhin\"\n",
        "name"
      ],
      "metadata": {
        "colab": {
          "base_uri": "https://localhost:8080/",
          "height": 36
        },
        "id": "1ehh9pI7Hoyd",
        "outputId": "e30139e2-1695-4d3d-cb51-6e65cb55734b"
      },
      "execution_count": null,
      "outputs": [
        {
          "output_type": "execute_result",
          "data": {
            "text/plain": [
              "'Tuhin'"
            ],
            "application/vnd.google.colaboratory.intrinsic+json": {
              "type": "string"
            }
          },
          "metadata": {},
          "execution_count": 4
        }
      ]
    },
    {
      "cell_type": "code",
      "source": [
        "type(name)"
      ],
      "metadata": {
        "colab": {
          "base_uri": "https://localhost:8080/"
        },
        "id": "2fbhxRgvIscf",
        "outputId": "3ebf3d34-6eb0-4c9a-d6e6-8649fdd4e12d"
      },
      "execution_count": null,
      "outputs": [
        {
          "output_type": "execute_result",
          "data": {
            "text/plain": [
              "str"
            ]
          },
          "metadata": {},
          "execution_count": 5
        }
      ]
    },
    {
      "cell_type": "markdown",
      "source": [
        "as defined in above charater are defind in string and string value will be in double inverted comma.\n"
      ],
      "metadata": {
        "id": "UiFnDeLkJAGg"
      }
    },
    {
      "cell_type": "code",
      "source": [
        "a=5\n",
        "a"
      ],
      "metadata": {
        "colab": {
          "base_uri": "https://localhost:8080/"
        },
        "id": "a2da4lU8I57e",
        "outputId": "c73245a8-189c-4d91-f30b-22b5fa08eb93"
      },
      "execution_count": null,
      "outputs": [
        {
          "output_type": "execute_result",
          "data": {
            "text/plain": [
              "5"
            ]
          },
          "metadata": {},
          "execution_count": 6
        }
      ]
    },
    {
      "cell_type": "code",
      "source": [
        "type(a)"
      ],
      "metadata": {
        "colab": {
          "base_uri": "https://localhost:8080/"
        },
        "id": "fljYJdaYJoLY",
        "outputId": "1e74b8f4-463c-4256-ae80-6889904834c9"
      },
      "execution_count": null,
      "outputs": [
        {
          "output_type": "execute_result",
          "data": {
            "text/plain": [
              "int"
            ]
          },
          "metadata": {},
          "execution_count": 7
        }
      ]
    },
    {
      "cell_type": "markdown",
      "source": [
        "as defined above numbers are defind in integers."
      ],
      "metadata": {
        "id": "u4NpCqxcJ6Q2"
      }
    },
    {
      "cell_type": "code",
      "source": [
        "a=4.5\n",
        "a"
      ],
      "metadata": {
        "colab": {
          "base_uri": "https://localhost:8080/"
        },
        "id": "b4rmeArvJ3-L",
        "outputId": "42b070fc-8db5-4ee0-a5e0-e28ac56bc71e"
      },
      "execution_count": null,
      "outputs": [
        {
          "output_type": "execute_result",
          "data": {
            "text/plain": [
              "4.5"
            ]
          },
          "metadata": {},
          "execution_count": 8
        }
      ]
    },
    {
      "cell_type": "code",
      "source": [
        "type(a)"
      ],
      "metadata": {
        "colab": {
          "base_uri": "https://localhost:8080/"
        },
        "id": "eqSzwwfbKQQR",
        "outputId": "3273d870-844f-4211-a14d-28eefdab66bc"
      },
      "execution_count": null,
      "outputs": [
        {
          "output_type": "execute_result",
          "data": {
            "text/plain": [
              "float"
            ]
          },
          "metadata": {},
          "execution_count": 9
        }
      ]
    },
    {
      "cell_type": "markdown",
      "source": [
        "In python float values are defined as decimal\n"
      ],
      "metadata": {
        "id": "_Owa35VmKYaE"
      }
    },
    {
      "cell_type": "code",
      "source": [
        "name = 2\n",
        "name"
      ],
      "metadata": {
        "colab": {
          "base_uri": "https://localhost:8080/"
        },
        "id": "EoyjCCDcKmbL",
        "outputId": "9e70bce8-73d1-47ae-ce80-07f3ce68227c"
      },
      "execution_count": null,
      "outputs": [
        {
          "output_type": "execute_result",
          "data": {
            "text/plain": [
              "2"
            ]
          },
          "metadata": {},
          "execution_count": 11
        }
      ]
    },
    {
      "cell_type": "code",
      "source": [
        "type (name)"
      ],
      "metadata": {
        "colab": {
          "base_uri": "https://localhost:8080/"
        },
        "id": "Xp0iIPdHKuae",
        "outputId": "8cd699fc-e199-4ac2-f518-6e8e7f7ea269"
      },
      "execution_count": null,
      "outputs": [
        {
          "output_type": "execute_result",
          "data": {
            "text/plain": [
              "int"
            ]
          },
          "metadata": {},
          "execution_count": 12
        }
      ]
    },
    {
      "cell_type": "code",
      "source": [
        "c=True\n",
        "type(c)"
      ],
      "metadata": {
        "id": "vgxAc0wGLGwz",
        "colab": {
          "base_uri": "https://localhost:8080/"
        },
        "outputId": "1263b773-3d1a-46c2-cc47-4783ef26a418"
      },
      "execution_count": null,
      "outputs": [
        {
          "output_type": "execute_result",
          "data": {
            "text/plain": [
              "bool"
            ]
          },
          "metadata": {},
          "execution_count": 2
        }
      ]
    },
    {
      "cell_type": "code",
      "source": [
        "d=False\n",
        "type(d)"
      ],
      "metadata": {
        "colab": {
          "base_uri": "https://localhost:8080/"
        },
        "id": "KEezeS0bWDop",
        "outputId": "191606b7-8691-4399-efa8-4e9e04fa236b"
      },
      "execution_count": null,
      "outputs": [
        {
          "output_type": "execute_result",
          "data": {
            "text/plain": [
              "bool"
            ]
          },
          "metadata": {},
          "execution_count": 3
        }
      ]
    },
    {
      "cell_type": "markdown",
      "source": [
        "This are some predefined keword in python."
      ],
      "metadata": {
        "id": "7SV-rDlwW2io"
      }
    },
    {
      "cell_type": "code",
      "source": [
        "print (\"Hello world\")"
      ],
      "metadata": {
        "colab": {
          "base_uri": "https://localhost:8080/"
        },
        "id": "Hbo2LH10WUdk",
        "outputId": "a8103429-e9c9-48d8-9d98-265c76a53acc"
      },
      "execution_count": null,
      "outputs": [
        {
          "output_type": "stream",
          "name": "stdout",
          "text": [
            "Hello world\n"
          ]
        }
      ]
    },
    {
      "cell_type": "code",
      "source": [
        "a=6\n",
        "type (a)"
      ],
      "metadata": {
        "colab": {
          "base_uri": "https://localhost:8080/"
        },
        "id": "2AwJ25sebgj1",
        "outputId": "e70b089c-cf1e-4efc-baa0-9f11eca87778"
      },
      "execution_count": null,
      "outputs": [
        {
          "output_type": "execute_result",
          "data": {
            "text/plain": [
              "int"
            ]
          },
          "metadata": {},
          "execution_count": 5
        }
      ]
    },
    {
      "cell_type": "code",
      "source": [
        "#This print and type are predefine words that has speacial meaning and has speacial purpose in python programming.\n"
      ],
      "metadata": {
        "id": "2tDyLKW4boO4"
      },
      "execution_count": null,
      "outputs": []
    },
    {
      "cell_type": "markdown",
      "source": [
        "**Question 3**) Compare and contrast mutable and immutable objects in Python with examples.\n",
        "Ans: Objects whose state or value can be changed after they are created are called mutable objects where item can be change from the list. example are as follws\n"
      ],
      "metadata": {
        "id": "_jhK--ixpic6"
      }
    },
    {
      "cell_type": "code",
      "source": [
        "List_count=[1,2,3,4.3,\"Rohit\"]\n",
        "List_count\n"
      ],
      "metadata": {
        "colab": {
          "base_uri": "https://localhost:8080/"
        },
        "id": "sR4107nRoUr5",
        "outputId": "3c2de0d9-4a3f-4bd3-9116-58fcc106a6ba"
      },
      "execution_count": null,
      "outputs": [
        {
          "output_type": "execute_result",
          "data": {
            "text/plain": [
              "[1, 2, 3, 4.3, 'Rohit']"
            ]
          },
          "metadata": {},
          "execution_count": 1
        }
      ]
    },
    {
      "cell_type": "code",
      "source": [
        "List_count[4]=\"Virat\"\n",
        "List_count"
      ],
      "metadata": {
        "colab": {
          "base_uri": "https://localhost:8080/"
        },
        "id": "eWlhH8h4pAtn",
        "outputId": "031252db-3f95-43ac-8450-0e67915ed444"
      },
      "execution_count": null,
      "outputs": [
        {
          "output_type": "execute_result",
          "data": {
            "text/plain": [
              "[1, 2, 3, 4.3, 'Virat']"
            ]
          },
          "metadata": {},
          "execution_count": 3
        }
      ]
    },
    {
      "cell_type": "code",
      "source": [
        "List_count[0]=100\n",
        "List_count"
      ],
      "metadata": {
        "colab": {
          "base_uri": "https://localhost:8080/"
        },
        "id": "_bO2Idz1pP2d",
        "outputId": "d754c547-e4ca-4fb7-ee27-554244ff01e6"
      },
      "execution_count": null,
      "outputs": [
        {
          "output_type": "execute_result",
          "data": {
            "text/plain": [
              "[100, 2, 3, 4.3, 'Virat']"
            ]
          },
          "metadata": {},
          "execution_count": 4
        }
      ]
    },
    {
      "cell_type": "code",
      "source": [
        "#as per list_count is an example where mutable value can be changed .\n"
      ],
      "metadata": {
        "id": "wfcQeEx4pt_n"
      },
      "execution_count": null,
      "outputs": []
    },
    {
      "cell_type": "code",
      "source": [
        "\"\"\"Object whose state or value cannot be changed after they are created are called immutable object.String is an immutable object dosen't support item assignment. Some examples are as follows\"\"\"\n"
      ],
      "metadata": {
        "id": "PYZxwIU4qwNX"
      },
      "execution_count": null,
      "outputs": []
    },
    {
      "cell_type": "code",
      "source": [
        "b=\"Pwskills\"\n",
        "b"
      ],
      "metadata": {
        "colab": {
          "base_uri": "https://localhost:8080/",
          "height": 36
        },
        "id": "I4Ign-qms2xU",
        "outputId": "834c3774-efcb-41d5-bb8b-cee9c78d4d09"
      },
      "execution_count": null,
      "outputs": [
        {
          "output_type": "execute_result",
          "data": {
            "text/plain": [
              "'Pwskills'"
            ],
            "application/vnd.google.colaboratory.intrinsic+json": {
              "type": "string"
            }
          },
          "metadata": {},
          "execution_count": 7
        }
      ]
    },
    {
      "cell_type": "code",
      "source": [
        "b[0]=\"i\""
      ],
      "metadata": {
        "colab": {
          "base_uri": "https://localhost:8080/",
          "height": 141
        },
        "id": "kt6YhLchxUNv",
        "outputId": "9e7bba64-6b9f-4b14-ca44-739c2cd1bd74"
      },
      "execution_count": null,
      "outputs": [
        {
          "output_type": "error",
          "ename": "TypeError",
          "evalue": "'str' object does not support item assignment",
          "traceback": [
            "\u001b[0;31m---------------------------------------------------------------------------\u001b[0m",
            "\u001b[0;31mTypeError\u001b[0m                                 Traceback (most recent call last)",
            "\u001b[0;32m<ipython-input-11-ee68402ce9b5>\u001b[0m in \u001b[0;36m<cell line: 1>\u001b[0;34m()\u001b[0m\n\u001b[0;32m----> 1\u001b[0;31m \u001b[0mb\u001b[0m\u001b[0;34m[\u001b[0m\u001b[0;36m0\u001b[0m\u001b[0;34m]\u001b[0m\u001b[0;34m=\u001b[0m\u001b[0;34m\"i\"\u001b[0m\u001b[0;34m\u001b[0m\u001b[0;34m\u001b[0m\u001b[0m\n\u001b[0m",
            "\u001b[0;31mTypeError\u001b[0m: 'str' object does not support item assignment"
          ]
        }
      ]
    },
    {
      "cell_type": "code",
      "source": [
        "#as imforemd earlier that object which cannot be changed after creation is called immutable object."
      ],
      "metadata": {
        "id": "K6gRZfY5tUO1"
      },
      "execution_count": null,
      "outputs": []
    },
    {
      "cell_type": "markdown",
      "source": [
        "**Question** 4 bold text) Discuss the different types of operators in Python and provide examples of how they are used.\n",
        "Ans: Python operators are speacial keword or symbol that are used to perform operation on value or variable.The different type of oprators are as follows:\n",
        "\n",
        "i)Arithmatic operators\n",
        "ii)Comparison operators\n",
        "iii)Logical operators\n",
        "iv)Bitwise operators\n",
        " v)Assignment operators\n",
        "vi)Membership operators\n",
        "vii)identity operators\n",
        "   "
      ],
      "metadata": {
        "id": "GY1qOAdZpvth"
      }
    },
    {
      "cell_type": "markdown",
      "source": [],
      "metadata": {
        "id": "7NeIHbEIyiKh"
      }
    },
    {
      "cell_type": "markdown",
      "source": [
        "\n",
        "i.) Arithmetic Operators\n",
        "Arithmetic operators are used to perform basic mathematical operations.\n",
        "\n",
        "Addition (+): Adds two operands.\n",
        "Subtraction (-): Subtracts the right operand from the left operand.\n",
        "Multiplication (*): Multiplies two operands.\n",
        "Division (/): Divides the left operand by the right operand (always returns a float).\n",
        "Floor Division (//): Divides and returns the largest integer less than or equal to the result (integer division).\n",
        "Modulus (%): Returns the remainder of the division.\n",
        "Exponentiation (**): Raises the left operand to the power of the right operand."
      ],
      "metadata": {
        "id": "zQ9FEgJWynZg"
      }
    },
    {
      "cell_type": "code",
      "source": [
        "#Example\n",
        "a=20\n",
        "b=12\n",
        "\n",
        "print (a+b) # 32\n",
        "print (a-b) #8\n",
        "print (a*b) #240\n",
        "print (a/b) #1.66666\n",
        "print (a//b) #1\n",
        "print (a%b)  #8\n",
        "print (a**b) #4096000000000000"
      ],
      "metadata": {
        "id": "YS3hQfGQxaZm",
        "colab": {
          "base_uri": "https://localhost:8080/"
        },
        "outputId": "a7ba6445-a154-4c5e-d114-07dac0db24f2"
      },
      "execution_count": null,
      "outputs": [
        {
          "output_type": "stream",
          "name": "stdout",
          "text": [
            "32\n",
            "8\n",
            "240\n",
            "1.6666666666666667\n",
            "1\n",
            "8\n",
            "4096000000000000\n"
          ]
        }
      ]
    },
    {
      "cell_type": "markdown",
      "source": [
        "ii.) Comparison Operators\n",
        "Comparison operators are used to compare two values. They return a boolean result (True or False).\n",
        "\n",
        "Equal to (==): Checks if two values are equal.\n",
        "Not equal to (!=): Checks if two values are not equal.\n",
        "Greater than (>): Checks if the left operand is greater than the right.\n",
        "Less than (<): Checks if the left operand is less than the right.\n",
        "Greater than or equal to (>=): Checks if the left operand is greater than or equal to the right.\n",
        "Less than or equal to (<=): Checks if the left operand is less than or equal to the right."
      ],
      "metadata": {
        "id": "IwibBBKT07Ap"
      }
    },
    {
      "cell_type": "code",
      "source": [
        "#Example\n",
        "x = 5\n",
        "y = 3\n",
        "\n",
        "print(x == y)  # False\n",
        "print(x != y)  # True\n",
        "print(x > y)   # True\n",
        "print(x < y)   # False\n",
        "print(x >= y)  # True\n",
        "print(x <= y)  # False\n"
      ],
      "metadata": {
        "id": "X-YEreiJzQKX",
        "colab": {
          "base_uri": "https://localhost:8080/"
        },
        "outputId": "94ff91be-a988-40bd-f34c-1407cb3c3ecb"
      },
      "execution_count": null,
      "outputs": [
        {
          "output_type": "stream",
          "name": "stdout",
          "text": [
            "False\n",
            "True\n",
            "True\n",
            "False\n",
            "True\n",
            "False\n"
          ]
        }
      ]
    },
    {
      "cell_type": "markdown",
      "source": [
        "iii.) Logical Operators\n",
        "Logical operators are used to combine conditional statements.\n",
        "\n",
        "AND (and): Returns True if both conditions are true.\n",
        "OR (or): Returns True if at least one of the conditions is true.\n",
        "NOT (not): Inverts the boolean value (True becomes False, and False becomes True)."
      ],
      "metadata": {
        "id": "4jJS0ES44kSb"
      }
    },
    {
      "cell_type": "code",
      "source": [
        "#Example\n",
        "a = True\n",
        "b = False\n",
        "\n",
        "print(a and b)  # False\n",
        "print(a or b)   # True\n",
        "print(not a)    # False\n"
      ],
      "metadata": {
        "id": "JliHr3Sb4mOC",
        "colab": {
          "base_uri": "https://localhost:8080/"
        },
        "outputId": "c0c249d0-2135-4d48-cfcb-29f21964a136"
      },
      "execution_count": null,
      "outputs": [
        {
          "output_type": "stream",
          "name": "stdout",
          "text": [
            "False\n",
            "True\n",
            "False\n"
          ]
        }
      ]
    },
    {
      "cell_type": "markdown",
      "source": [
        "iv.)Assignment Operators.\n",
        "These operators are used to assign values to variables.\n",
        "=: Simple assignment.\n",
        "+=: Adds the right operand to the left operand and assigns the result to the left operand.\n",
        "-=: Subtracts the right operand from the left operand and assigns the result.\n",
        "*=: Multiplies the left operand by the right operand and assigns the result.\n",
        "/=: Divides the left operand by the right operand and assigns the result.\n",
        "//=: Performs floor division and assigns the result.\n",
        "%=: Performs modulus and assigns the result.\n",
        "**=: Performs exponentiation and assigns the result."
      ],
      "metadata": {
        "id": "bNNgY0kQGebM"
      }
    },
    {
      "cell_type": "code",
      "source": [
        "x = 10\n",
        "x += 5  # x = x + 5 => 15\n",
        "print(x)  # 15\n",
        "\n",
        "x *= 2  # x = x * 2 => 30\n",
        "print(x)  # 30\n",
        "\n",
        "x /= 3  # x = x / 3 => 10.0\n",
        "print(x)  # 10.0\n"
      ],
      "metadata": {
        "colab": {
          "base_uri": "https://localhost:8080/"
        },
        "id": "ZlS9jjMfG2aN",
        "outputId": "8127f0ca-6169-4314-f0b0-da104b11bc55"
      },
      "execution_count": null,
      "outputs": [
        {
          "output_type": "stream",
          "name": "stdout",
          "text": [
            "15\n",
            "30\n",
            "10.0\n"
          ]
        }
      ]
    },
    {
      "cell_type": "markdown",
      "source": [
        "v.)Membership Operators\n",
        "These operators are used to test whether a value is present in a sequence (such as a list, tuple, or string).\n",
        "\n",
        "in: Returns True if the value is found in the sequence.\n",
        "not in: Returns True if the value is not found in the sequence."
      ],
      "metadata": {
        "id": "LqE9mHULItqR"
      }
    },
    {
      "cell_type": "code",
      "source": [
        "a= \"Tuhin\"\n",
        "print (\"i\" in a) #True"
      ],
      "metadata": {
        "colab": {
          "base_uri": "https://localhost:8080/"
        },
        "id": "J5KYqR4IHHGl",
        "outputId": "05c50353-e678-4082-d26b-e6c417cadb9a"
      },
      "execution_count": null,
      "outputs": [
        {
          "output_type": "stream",
          "name": "stdout",
          "text": [
            "True\n"
          ]
        }
      ]
    },
    {
      "cell_type": "code",
      "source": [
        "print (\"i\" not in a) # False"
      ],
      "metadata": {
        "colab": {
          "base_uri": "https://localhost:8080/"
        },
        "id": "L-dFzczMJGBU",
        "outputId": "d61ac62a-c8d8-4e31-d7ed-fdb2aeb8aaa9"
      },
      "execution_count": null,
      "outputs": [
        {
          "output_type": "stream",
          "name": "stdout",
          "text": [
            "False\n"
          ]
        }
      ]
    },
    {
      "cell_type": "code",
      "source": [
        "city=(\"Mumbai\",\"Kolkata\",\"Delhi\")\n",
        "print (\"Mumbai\" in city)# True\n",
        "print (\"Kolkata\" not in city) # False"
      ],
      "metadata": {
        "colab": {
          "base_uri": "https://localhost:8080/"
        },
        "id": "QhhYpfa1JVzz",
        "outputId": "a9b6473c-5fd8-4f6c-c8c3-d739e3b3e2f7"
      },
      "execution_count": null,
      "outputs": [
        {
          "output_type": "stream",
          "name": "stdout",
          "text": [
            "True\n",
            "False\n"
          ]
        }
      ]
    },
    {
      "cell_type": "markdown",
      "source": [
        "vi.) Identity Operators\n",
        "These operators are used to compare the memory locations of two objects.\n",
        "is: Returns True if both operands refer to the same object.\n",
        "is not: Returns True if both operands do not refer to the same object."
      ],
      "metadata": {
        "id": "xTKdgRNHLCi4"
      }
    },
    {
      "cell_type": "code",
      "source": [
        "a = [1, 2, 3]\n",
        "b = a\n",
        "c = [1, 2, 3]\n",
        "\n",
        "print(a is b)       # True, since a and b refer to the same object\n",
        "print(a is c)       # False, since a and c are two different objects\n",
        "print(a is not c)   # True, since a and c are different objects\n"
      ],
      "metadata": {
        "colab": {
          "base_uri": "https://localhost:8080/"
        },
        "id": "0Y7-M0RxMr_W",
        "outputId": "63998672-c123-44a7-d007-7886df5ce39b"
      },
      "execution_count": null,
      "outputs": [
        {
          "output_type": "stream",
          "name": "stdout",
          "text": [
            "True\n",
            "False\n",
            "True\n"
          ]
        }
      ]
    },
    {
      "cell_type": "markdown",
      "source": [
        "vii.)Bitwise Operators\n",
        "These operators work on the binary representation of integers.\n",
        "& (AND): Performs bitwise AND operation.\n",
        "| (OR): Performs bitwise OR operation.\n",
        "^ (XOR): Performs bitwise XOR operation.\n",
        "~ (NOT): Performs bitwise NOT operation (inverts the bits).\n",
        "<< (Left shift): Shifts bits to the left by the specified number of positions.\n",
        ">> (Right shift): Shifts bits to the right by the specified number of positio"
      ],
      "metadata": {
        "id": "Lf3sjMT8OoDU"
      }
    },
    {
      "cell_type": "code",
      "source": [
        "a = 5  # 0101 in binary\n",
        "b = 3  # 0011 in binary\n",
        "\n",
        "print(a & b)  # 1 (0001 in binary)\n",
        "print(a | b)  # 7 (0111 in binary)\n",
        "print(a ^ b)  # 6 (0110 in binary)\n",
        "print(~a)     # -6 (bitwise NOT of 5)\n",
        "print(a << 1) # 10 (1010 in binary, left shift by 1)\n",
        "print(a >> 1) # 2 (0010 in binary, right shift by 1)\n"
      ],
      "metadata": {
        "colab": {
          "base_uri": "https://localhost:8080/"
        },
        "id": "vtiYRgZ1PYpc",
        "outputId": "fed00e79-8e5a-44a5-a33c-18287617cd45"
      },
      "execution_count": null,
      "outputs": [
        {
          "output_type": "stream",
          "name": "stdout",
          "text": [
            "1\n",
            "7\n",
            "6\n",
            "-6\n",
            "10\n",
            "2\n"
          ]
        }
      ]
    },
    {
      "cell_type": "markdown",
      "source": [
        "**Question 5**)Explain the concept of type casting in Python with examples.\n",
        "Ans:Type casting/type conversion is the process of changing the date type of value/obejctwhile executing/compution using operators. Type casting can be done by implicit either explicit. Example are as follows:\n"
      ],
      "metadata": {
        "id": "9Xo8PFFDrj0-"
      }
    },
    {
      "cell_type": "markdown",
      "source": [
        "i.)1. Implicit Type Casting\n",
        "Python understand data types (e.g., integers) to larger data types (e.g., floating-point numbers) when necessary."
      ],
      "metadata": {
        "id": "h1Jl_paa4BqK"
      }
    },
    {
      "cell_type": "code",
      "source": [
        "# Implicit Type Casting\n",
        "a = 5        # Integer\n",
        "b = 2.5      # Float\n",
        "\n",
        "# Python will automatically convert 'a' to float\n",
        "result = a + b\n",
        "print(result)  # Output: 7.5\n"
      ],
      "metadata": {
        "colab": {
          "base_uri": "https://localhost:8080/"
        },
        "id": "pjxI9zOi4cXx",
        "outputId": "3c7ae9db-3266-4c7b-b87f-ea8a2bf0fe35"
      },
      "execution_count": null,
      "outputs": [
        {
          "output_type": "stream",
          "name": "stdout",
          "text": [
            "7.5\n"
          ]
        }
      ]
    },
    {
      "cell_type": "markdown",
      "source": [
        "ii.) Explicit Type Casting\n",
        "Explicit type casting allows you to convert data from one type to another using built-in functions such as int(), float(), str(), etc."
      ],
      "metadata": {
        "id": "82tSnO5g4vca"
      }
    },
    {
      "cell_type": "code",
      "source": [
        "# Example i (converting float to integer)\n",
        "# Explicit Type Casting\n",
        "x = 5.7\n",
        "y = int(x)  # Convert float to integer\n",
        "print(y)  # Output: 5\n",
        "\n"
      ],
      "metadata": {
        "colab": {
          "base_uri": "https://localhost:8080/"
        },
        "id": "XjRCZ2hn4h49",
        "outputId": "dddaaea8-106a-46ad-f6f7-619534cb2207"
      },
      "execution_count": null,
      "outputs": [
        {
          "output_type": "stream",
          "name": "stdout",
          "text": [
            "5\n"
          ]
        }
      ]
    },
    {
      "cell_type": "code",
      "source": [
        "# Example ii (Converting number to string)\n",
        "a = 100\n",
        "b = str(a)  # Convert integer to string\n",
        "print(b)  # Output: \"100\"\n",
        "\n"
      ],
      "metadata": {
        "colab": {
          "base_uri": "https://localhost:8080/"
        },
        "id": "EWF3NS845S9_",
        "outputId": "56c95b11-9073-49b8-fc5b-1d0d0ab59b74"
      },
      "execution_count": null,
      "outputs": [
        {
          "output_type": "stream",
          "name": "stdout",
          "text": [
            "100\n"
          ]
        }
      ]
    },
    {
      "cell_type": "markdown",
      "source": [
        "**Question 6**) How do conditional statements work in Python? Illustrate with examples.\n",
        "Ans:Conditional statements in Python allow you to execute certain blocks of code based on whether a condition (or a set of conditions) evaluates to True or False. The most common types of conditional statements in Python are\n",
        "if statement\n",
        "if-else statement\n",
        "if-elif-else statement\n",
        "Nested if statements"
      ],
      "metadata": {
        "id": "KGOITdVFJBct"
      }
    },
    {
      "cell_type": "code",
      "source": [
        "# i.)if Statement\n",
        "# The if statement allows you to test a condition and execute code only if the condition evaluates to True.\n",
        "x = 10\n",
        "if x > 5:\n",
        "    print(\"x is greater than 5\")  # This will be printed because the condition is True\n"
      ],
      "metadata": {
        "colab": {
          "base_uri": "https://localhost:8080/"
        },
        "id": "boA0wHTR5oZr",
        "outputId": "1e61e7f4-cf99-4f3d-aa88-b762b1dde70f"
      },
      "execution_count": null,
      "outputs": [
        {
          "output_type": "stream",
          "name": "stdout",
          "text": [
            "x is greater than 5\n"
          ]
        }
      ]
    },
    {
      "cell_type": "code",
      "source": [
        "# In this example, since x is 10, the condition x > 5 evaluates to True, so the message \"x is greater than 5\" is printed.\n"
      ],
      "metadata": {
        "id": "6x45KsZhOfRL"
      },
      "execution_count": null,
      "outputs": []
    },
    {
      "cell_type": "code",
      "source": [
        "#ii.)if-else Statement\n",
        "# The if-else statement allows you to execute one block of code if the condition is True, and another block of code if the condition is False.\n",
        "x = 3\n",
        "if x > 5:\n",
        "    print(\"x is greater than 5\")\n",
        "else:\n",
        "    print(\"x is less than or equal to 5\")  # This will be printed because the condition is False\n"
      ],
      "metadata": {
        "colab": {
          "base_uri": "https://localhost:8080/"
        },
        "id": "iwAPt_iBOmt_",
        "outputId": "3117f6f2-5680-40bc-d3dc-f19611a41a7a"
      },
      "execution_count": null,
      "outputs": [
        {
          "output_type": "stream",
          "name": "stdout",
          "text": [
            "x is less than or equal to 5\n"
          ]
        }
      ]
    },
    {
      "cell_type": "code",
      "source": [
        "# In this example, since x is 3, the condition x > 5 is False, so the else block is executed, and \"x is less than or equal to 5\" is printed."
      ],
      "metadata": {
        "id": "7qXNInESOwyt"
      },
      "execution_count": null,
      "outputs": []
    },
    {
      "cell_type": "code",
      "source": [
        "# iii.) if-elif-else Statement\n",
        "# The if-elif-else statement allows you to check multiple conditions. If the first condition is False, Python checks the next condition, and so on. If none of the conditions are True, the else block is executed.\n",
        "x = 7\n",
        "if x > 10:\n",
        "    print(\"x is greater than 10\")\n",
        "elif x == 7:\n",
        "    print(\"x is equal to 7\")  # This will be printed because the second condition is True\n",
        "else:\n",
        "    print(\"x is less than or equal to 6\")\n"
      ],
      "metadata": {
        "colab": {
          "base_uri": "https://localhost:8080/"
        },
        "id": "OXJhzVg3O5Sa",
        "outputId": "7fef2bed-1974-4f30-9bb5-05f862efec72"
      },
      "execution_count": null,
      "outputs": [
        {
          "output_type": "stream",
          "name": "stdout",
          "text": [
            "x is equal to 7\n"
          ]
        }
      ]
    },
    {
      "cell_type": "code",
      "source": [
        "# In this example, x == 7 evaluates to True, so the corresponding elif block is executed, and \"x is equal to 7\" is printed."
      ],
      "metadata": {
        "id": "rpx-BzdJPGUc"
      },
      "execution_count": null,
      "outputs": []
    },
    {
      "cell_type": "code",
      "source": [
        "# iv.)Nested if Statements\n",
        "# You can also place an if statement inside another if statement. This is useful for checking multiple conditions that depend on each other.\n",
        "x = 10\n",
        "y = 5\n",
        "if x > 0:\n",
        "    if y > 0:\n",
        "        print(\"Both x and y are positive\")  # This will be printed\n"
      ],
      "metadata": {
        "colab": {
          "base_uri": "https://localhost:8080/"
        },
        "id": "kMzLgfwbPQt8",
        "outputId": "98940196-3f88-4746-a91a-de4aa88c3fda"
      },
      "execution_count": null,
      "outputs": [
        {
          "output_type": "stream",
          "name": "stdout",
          "text": [
            "Both x and y are positive\n"
          ]
        }
      ]
    },
    {
      "cell_type": "code",
      "source": [
        "#In this example, since both conditions x > 0 and y > 0 are True, the nested if statement is executed, and \"Both x and y are positive\" is printed."
      ],
      "metadata": {
        "id": "F9AC7rElPZW7"
      },
      "execution_count": null,
      "outputs": []
    },
    {
      "cell_type": "markdown",
      "source": [
        "**Question 7**)Describe the different types of loops in Python and their use cases with examples.\n",
        "Ans:In python loop statement allow you to execute a block of code repeatedly.There are two types of loop:\n",
        "i.) While loop\n",
        "ii.) For loop\n"
      ],
      "metadata": {
        "id": "YFo5bBvEPxSm"
      }
    },
    {
      "cell_type": "code",
      "source": [
        "# i.) while loop\n",
        "# while loop repeatedly executed a block of code until a conditionis met.\n",
        "count = 0\n",
        "while count < 5:\n",
        "    print(count)\n",
        "    count += 1  # Increment count to avoid an infinite loop\n"
      ],
      "metadata": {
        "colab": {
          "base_uri": "https://localhost:8080/"
        },
        "id": "QZT15VmQRaTH",
        "outputId": "1ab2536a-9bcf-4c07-cf74-31ae3b150f28"
      },
      "execution_count": null,
      "outputs": [
        {
          "output_type": "stream",
          "name": "stdout",
          "text": [
            "0\n",
            "1\n",
            "2\n",
            "3\n",
            "4\n"
          ]
        }
      ]
    },
    {
      "cell_type": "code",
      "source": [
        "# In this example, the loop runs as long as count is less than 5. After each iteration, count is incremented."
      ],
      "metadata": {
        "id": "pfPY964ITFJg"
      },
      "execution_count": null,
      "outputs": []
    },
    {
      "cell_type": "code",
      "source": [
        "n = 7\n",
        "i = 1\n",
        "while i < n:\n",
        "  print (i)\n",
        "  i = i+1\n",
        "else:\n",
        "  print (\"This will executed when the while is run successfuly without any break\")\n",
        "\n"
      ],
      "metadata": {
        "colab": {
          "base_uri": "https://localhost:8080/"
        },
        "id": "41zSeVVVwwHe",
        "outputId": "543f8607-1c4d-4ff7-9d2f-0e2023e635cf"
      },
      "execution_count": null,
      "outputs": [
        {
          "output_type": "stream",
          "name": "stdout",
          "text": [
            "1\n",
            "2\n",
            "3\n",
            "4\n",
            "5\n",
            "6\n",
            "This will executed when the while is run successfuly without any break\n"
          ]
        }
      ]
    },
    {
      "cell_type": "code",
      "source": [
        "#break terminates/exit the loop\n",
        "n = 7\n",
        "i = 1\n",
        "while i < n:\n",
        "  print (i)\n",
        "  i = i+1\n",
        "  if i == 3:\n",
        "    break\n",
        "else:\n",
        "  print (\"This will executed when the while is run successfuly without any break\")\n"
      ],
      "metadata": {
        "colab": {
          "base_uri": "https://localhost:8080/"
        },
        "id": "o8zhk8uHyc9h",
        "outputId": "28286d92-5e55-4233-824d-dcf658ef1126"
      },
      "execution_count": null,
      "outputs": [
        {
          "output_type": "stream",
          "name": "stdout",
          "text": [
            "1\n",
            "2\n"
          ]
        }
      ]
    },
    {
      "cell_type": "code",
      "source": [
        "# continue >> skip the iteration\n",
        "n = 7\n",
        "i = 1\n",
        "while i < n:\n",
        "  i = i+1\n",
        "  if i == 3:\n",
        "    continue\n",
        "    print (i)\n",
        "else:\n",
        "  print (\"This will executed when the while is run successfuly without any break\")"
      ],
      "metadata": {
        "colab": {
          "base_uri": "https://localhost:8080/"
        },
        "id": "mITtSd3TyKG4",
        "outputId": "ca3995d7-b075-401f-e1d5-64b616ab19f7"
      },
      "execution_count": null,
      "outputs": [
        {
          "output_type": "stream",
          "name": "stdout",
          "text": [
            "This will executed when the while is run successfuly without any break\n"
          ]
        }
      ]
    },
    {
      "cell_type": "code",
      "source": [
        "# ii.)For Loop\n",
        "# iterate over a sequence of elements (string,list)\n",
        "for i in \"pwskills\":\n",
        "  print (i)"
      ],
      "metadata": {
        "colab": {
          "base_uri": "https://localhost:8080/"
        },
        "id": "y6dPXtE30S9r",
        "outputId": "7ca21a5b-66a6-4570-9763-9e4f8e1f4a25"
      },
      "execution_count": null,
      "outputs": [
        {
          "output_type": "stream",
          "name": "stdout",
          "text": [
            "p\n",
            "w\n",
            "s\n",
            "k\n",
            "i\n",
            "l\n",
            "l\n",
            "s\n"
          ]
        }
      ]
    },
    {
      "cell_type": "code",
      "source": [
        "#example 2\n",
        "l = [1,2,\"Tuhin\",\"Pwskills\"]\n",
        "for i in l:\n",
        "  print (i)"
      ],
      "metadata": {
        "colab": {
          "base_uri": "https://localhost:8080/"
        },
        "id": "Cg0Z09J01msG",
        "outputId": "fc9b58d6-a43e-45c2-f716-a2f30f80ee96"
      },
      "execution_count": null,
      "outputs": [
        {
          "output_type": "stream",
          "name": "stdout",
          "text": [
            "1\n",
            "2\n",
            "Tuhin\n",
            "Pwskills\n"
          ]
        }
      ]
    },
    {
      "cell_type": "code",
      "source": [
        "# example 3\n",
        "for i in l:\n",
        "  print (i)\n",
        "else:\n",
        "  print (\"This will executed when the while is run successfuly without any break\")"
      ],
      "metadata": {
        "colab": {
          "base_uri": "https://localhost:8080/"
        },
        "id": "cDdmmL8Y24w_",
        "outputId": "0d3de1b8-26af-46b4-ea86-df2f94a535e8"
      },
      "execution_count": null,
      "outputs": [
        {
          "output_type": "stream",
          "name": "stdout",
          "text": [
            "1\n",
            "2\n",
            "Tuhin\n",
            "Pwskills\n",
            "This will executed when the while is run successfuly without any break\n"
          ]
        }
      ]
    },
    {
      "cell_type": "code",
      "source": [
        "list (range (0,10)) # it will give value from 0 to 9"
      ],
      "metadata": {
        "colab": {
          "base_uri": "https://localhost:8080/"
        },
        "id": "JbyN019U3ldN",
        "outputId": "4879902b-431a-4e12-af87-4d24e07d9487"
      },
      "execution_count": null,
      "outputs": [
        {
          "output_type": "execute_result",
          "data": {
            "text/plain": [
              "[0, 1, 2, 3, 4, 5, 6, 7, 8, 9]"
            ]
          },
          "metadata": {},
          "execution_count": 12
        }
      ]
    },
    {
      "cell_type": "code",
      "source": [],
      "metadata": {
        "id": "xqxc3ZV55qLD"
      },
      "execution_count": null,
      "outputs": []
    }
  ]
}