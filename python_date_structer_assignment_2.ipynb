{
  "nbformat": 4,
  "nbformat_minor": 0,
  "metadata": {
    "colab": {
      "provenance": [],
      "authorship_tag": "ABX9TyP95jnaDnoLXSYls3I+lpB9",
      "include_colab_link": true
    },
    "kernelspec": {
      "name": "python3",
      "display_name": "Python 3"
    },
    "language_info": {
      "name": "python"
    }
  },
  "cells": [
    {
      "cell_type": "markdown",
      "metadata": {
        "id": "view-in-github",
        "colab_type": "text"
      },
      "source": [
        "<a href=\"https://colab.research.google.com/github/Tuhin-paul-web/Python-assignment-pwskills/blob/main/python_date_structer_assignment_2.ipynb\" target=\"_parent\"><img src=\"https://colab.research.google.com/assets/colab-badge.svg\" alt=\"Open In Colab\"/></a>"
      ]
    },
    {
      "cell_type": "code",
      "execution_count": null,
      "metadata": {
        "id": "fAQmu1ECRZ0i"
      },
      "outputs": [],
      "source": []
    },
    {
      "cell_type": "markdown",
      "source": [
        "#### Question 1) Discuss string slicing and provide examples.\n",
        "##### Ans: String slicing in Python is a technique that allows you to extract a portion of a string by specifying a range of indices. Slicing is done using the colon (:) operator inside square brackets ([]). The general syntax is:"
      ],
      "metadata": {
        "id": "TYxY9Fz-R0Rf"
      }
    },
    {
      "cell_type": "markdown",
      "source": [
        "#####string[start:stop:step]\n",
        "#####Key Parameters:\n",
        "start: The index from which to start the slice (inclusive).\n",
        "stop: The index at which to end the slice (exclusive).\n",
        "step: The step size or the interval between indices. If omitted, it defaults to 1.\n",
        "\n",
        "#####Key Points:\n",
        "Indices in Python strings are zero-based, meaning the first character has index 0.\n",
        "Negative indices count from the end of the string, where -1 is the last character, -2 is the second-to-last, and so on.\n",
        "If you omit the start, stop, or step, they default to the beginning, end, and 1, respectively."
      ],
      "metadata": {
        "id": "Gh1LsYxOT4Lu"
      }
    },
    {
      "cell_type": "code",
      "source": [
        "# Examples:\n",
        "#i) Basic Slicing:\n",
        "\n",
        "s = \"Hello, World!\"\n",
        "print(s[0:5])  # Output: 'Hello'\n"
      ],
      "metadata": {
        "colab": {
          "base_uri": "https://localhost:8080/"
        },
        "id": "2QvvlhAETYxU",
        "outputId": "08893cef-29fb-4bab-ebe5-e7143d21ef76"
      },
      "execution_count": null,
      "outputs": [
        {
          "output_type": "stream",
          "name": "stdout",
          "text": [
            "Hello\n"
          ]
        }
      ]
    },
    {
      "cell_type": "code",
      "source": [
        "# Extracts characters from index 0 up to (but not including) index 5."
      ],
      "metadata": {
        "id": "Uxy6sVboUqCL"
      },
      "execution_count": null,
      "outputs": []
    },
    {
      "cell_type": "code",
      "source": [
        "#ii) Slicing with Step:\n",
        "\n",
        "s = \"Hello, World!\"\n",
        "print(s[::2])  # Output: 'Hoo ol!'\n"
      ],
      "metadata": {
        "colab": {
          "base_uri": "https://localhost:8080/"
        },
        "id": "_DFFPaybUxts",
        "outputId": "453d8f29-8413-4c7b-c15c-e093ee4336a1"
      },
      "execution_count": null,
      "outputs": [
        {
          "output_type": "stream",
          "name": "stdout",
          "text": [
            "Hlo ol!\n"
          ]
        }
      ]
    },
    {
      "cell_type": "code",
      "source": [
        "# step=2 takes every second character from the string."
      ],
      "metadata": {
        "id": "KANU45hsVAIy"
      },
      "execution_count": null,
      "outputs": []
    },
    {
      "cell_type": "code",
      "source": [
        "#iii) Omitting start and stop:\n",
        "\n",
        "s = \"Hello, World!\"\n",
        "print(s[:5])   # Output: 'Hello'\n",
        "print(s[7:])   # Output: 'World!'\n"
      ],
      "metadata": {
        "colab": {
          "base_uri": "https://localhost:8080/"
        },
        "id": "UUrK_AlNVLmm",
        "outputId": "e8098198-b357-407f-c2f8-388d1c2365d0"
      },
      "execution_count": null,
      "outputs": [
        {
          "output_type": "stream",
          "name": "stdout",
          "text": [
            "Hello\n",
            "World!\n"
          ]
        }
      ]
    },
    {
      "cell_type": "code",
      "source": [
        "# s[:5] takes characters from the beginning to index 5 (exclusive).\n",
        "# s[7:] takes characters from index 7 to the end of the string."
      ],
      "metadata": {
        "id": "FLRLAYn0VTaP"
      },
      "execution_count": null,
      "outputs": []
    },
    {
      "cell_type": "code",
      "source": [
        "#iv) Using Negative Indices:\n",
        "\n",
        "s = \"Hello, World!\"\n",
        "print(s[-6:-1])  # Output: 'World'\n"
      ],
      "metadata": {
        "colab": {
          "base_uri": "https://localhost:8080/"
        },
        "id": "67HL9bz_VfM9",
        "outputId": "ccdaf36d-2f47-455c-894c-ef6dd0d845fb"
      },
      "execution_count": null,
      "outputs": [
        {
          "output_type": "stream",
          "name": "stdout",
          "text": [
            "World\n"
          ]
        }
      ]
    },
    {
      "cell_type": "code",
      "source": [
        "# s[-6:-1] starts 6 characters from the end and goes to 1 character before the end."
      ],
      "metadata": {
        "id": "r4bpAdyaVnqr"
      },
      "execution_count": null,
      "outputs": []
    },
    {
      "cell_type": "code",
      "source": [
        "#v) Reversing a String:\n",
        "\n",
        "s = \"Hello, World!\"\n",
        "print(s[::-1])  # Output: '!dlroW ,olleH'\n"
      ],
      "metadata": {
        "colab": {
          "base_uri": "https://localhost:8080/"
        },
        "id": "nJhMlGArWCrq",
        "outputId": "f4597be4-2b76-4a70-f66e-4598435a412a"
      },
      "execution_count": null,
      "outputs": [
        {
          "output_type": "stream",
          "name": "stdout",
          "text": [
            "!dlroW ,olleH\n"
          ]
        }
      ]
    },
    {
      "cell_type": "code",
      "source": [
        "# A step of -1 reverses the string."
      ],
      "metadata": {
        "id": "amyXVJZzWHwY"
      },
      "execution_count": null,
      "outputs": []
    },
    {
      "cell_type": "code",
      "source": [
        "# vi) Slicing with a Negative Step:\n",
        "\n",
        "s = \"abcdef\"\n",
        "print(s[5:2:-1])  # Output: 'fed'\n",
        "\n",
        "\n"
      ],
      "metadata": {
        "colab": {
          "base_uri": "https://localhost:8080/"
        },
        "id": "ijQm5_UlWM1T",
        "outputId": "431c0acf-7c49-413b-e7ac-7fcab43c7a53"
      },
      "execution_count": null,
      "outputs": [
        {
          "output_type": "stream",
          "name": "stdout",
          "text": [
            "fed\n"
          ]
        }
      ]
    },
    {
      "cell_type": "code",
      "source": [
        "# Starts from index 5 and moves backwards to index 2 (not including index 2)."
      ],
      "metadata": {
        "id": "A1IQ_apFWWPZ"
      },
      "execution_count": null,
      "outputs": []
    },
    {
      "cell_type": "code",
      "source": [
        "#vii) Empty String Slice\n",
        "\n",
        "s = \"Python\"\n",
        "print(s[2:2])  # Output: ''\n"
      ],
      "metadata": {
        "colab": {
          "base_uri": "https://localhost:8080/"
        },
        "id": "ppO1inmqWeP6",
        "outputId": "d86c984d-2f8f-4484-fc7a-c1a5e29c3618"
      },
      "execution_count": null,
      "outputs": [
        {
          "output_type": "stream",
          "name": "stdout",
          "text": [
            "\n"
          ]
        }
      ]
    },
    {
      "cell_type": "code",
      "source": [
        "# If the start equals stop, the result is an empty string."
      ],
      "metadata": {
        "id": "AAMRkW_gWjsy"
      },
      "execution_count": null,
      "outputs": []
    },
    {
      "cell_type": "markdown",
      "source": [
        "#### Question 2)  Explain the key features of lists in Python.\n",
        "##### Ans: In Python, a list is one of the most versatile and commonly used data structures. A list is an ordered, mutable collection that can store a sequence of elements, which can be of any data type (e.g., integers, strings, other lists, etc.). Lists are widely used because of their flexibility, ease of use, and support for various operations."
      ],
      "metadata": {
        "id": "Zsk0RKilXOD4"
      }
    },
    {
      "cell_type": "markdown",
      "source": [
        "#### Here are the key features of lists in Python:\n",
        "##### i). Ordered:\n",
        "Lists maintain the order of the elements. When you create a list, the order in which elements are inserted is preserved.\n",
        "Elements are indexed, and each element can be accessed by its position (index) in the list"
      ],
      "metadata": {
        "id": "mkC6fo2cXvWN"
      }
    },
    {
      "cell_type": "code",
      "source": [
        "my_list = [10, 20, 30]\n",
        "print(my_list[0])  # Output: 10\n",
        "print(my_list[1])  # Output: 20\n"
      ],
      "metadata": {
        "colab": {
          "base_uri": "https://localhost:8080/"
        },
        "id": "BKY65HIEYBsl",
        "outputId": "966a3d02-c138-4d93-a9a3-ebec1f7c2e47"
      },
      "execution_count": null,
      "outputs": [
        {
          "output_type": "stream",
          "name": "stdout",
          "text": [
            "10\n",
            "20\n"
          ]
        }
      ]
    },
    {
      "cell_type": "markdown",
      "source": [
        "#### ii). Mutable:\n",
        "\n",
        "Lists are mutable, meaning you can change the elements of the list after it has been created.\n",
        "You can add, remove, or modify elements in a list.**bold text**"
      ],
      "metadata": {
        "id": "jG0va4zDYGL7"
      }
    },
    {
      "cell_type": "code",
      "source": [
        "my_list = [10, 20, 30]\n",
        "my_list[1] = 25   # Modify the second element\n",
        "print(my_list)  # Output: [10, 25, 30]\n",
        "\n",
        "my_list.append(40)  # Add a new element at the end\n",
        "print(my_list)  # Output: [10, 25, 30, 40]\n"
      ],
      "metadata": {
        "colab": {
          "base_uri": "https://localhost:8080/"
        },
        "id": "R-Fd4UxqYCi0",
        "outputId": "f708acc2-810d-4493-ec34-6cd6906fe844"
      },
      "execution_count": null,
      "outputs": [
        {
          "output_type": "stream",
          "name": "stdout",
          "text": [
            "[10, 25, 30]\n",
            "[10, 25, 30, 40]\n"
          ]
        }
      ]
    },
    {
      "cell_type": "markdown",
      "source": [
        "#### iii). Dynamic:\n",
        "\n",
        "Lists in Python are dynamic, meaning they can grow or shrink in size as elements are added or removed. You don’t need to specify the number of elements when creating a list."
      ],
      "metadata": {
        "id": "zbDNBjTKYSlE"
      }
    },
    {
      "cell_type": "code",
      "source": [
        "my_list = []  # Start with an empty list\n",
        "my_list.append(1)\n",
        "my_list.append(2)\n",
        "my_list.append(3)\n",
        "print(my_list)  # Output: [1, 2, 3]\n"
      ],
      "metadata": {
        "colab": {
          "base_uri": "https://localhost:8080/"
        },
        "id": "AvqR7FF4YP46",
        "outputId": "21518cdb-a2b1-4d80-82d3-9c13ee660551"
      },
      "execution_count": null,
      "outputs": [
        {
          "output_type": "stream",
          "name": "stdout",
          "text": [
            "[1, 2, 3]\n"
          ]
        }
      ]
    },
    {
      "cell_type": "markdown",
      "source": [
        "#### iv). Heterogeneous:\n",
        "\n",
        "A list can contain elements of different data types, including numbers, strings, other lists, or even mixed data types."
      ],
      "metadata": {
        "id": "Sj2KyKanYegz"
      }
    },
    {
      "cell_type": "code",
      "source": [
        "my_list = [10, \"hello\", 3.14, [1, 2, 3]]\n",
        "print(my_list)  # Output: [10, 'hello', 3.14, [1, 2, 3]]\n"
      ],
      "metadata": {
        "colab": {
          "base_uri": "https://localhost:8080/"
        },
        "id": "uYVPMCzSYZyH",
        "outputId": "d0d365ef-50ba-421d-bab2-6559eecbbf95"
      },
      "execution_count": null,
      "outputs": [
        {
          "output_type": "stream",
          "name": "stdout",
          "text": [
            "[10, 'hello', 3.14, [1, 2, 3]]\n"
          ]
        }
      ]
    },
    {
      "cell_type": "markdown",
      "source": [
        "#### v) Indexed:\n",
        "\n",
        "Every element in a list is assigned a unique index, starting from 0. You can access elements by their index."
      ],
      "metadata": {
        "id": "DaY46-e2Y1y8"
      }
    },
    {
      "cell_type": "code",
      "source": [
        "my_list = [\"apple\", \"banana\", \"cherry\"]\n",
        "print(my_list[0])  # Output: 'apple'\n",
        "print(my_list[1])  # Output: 'banana'\n",
        "print(my_list[-1]) # Output: 'cherry' (Negative indexing for reverse)\n"
      ],
      "metadata": {
        "colab": {
          "base_uri": "https://localhost:8080/"
        },
        "id": "WjH2Mjs0YkrI",
        "outputId": "79bd3c39-712f-428a-865e-4bd81c1b44b3"
      },
      "execution_count": null,
      "outputs": [
        {
          "output_type": "stream",
          "name": "stdout",
          "text": [
            "apple\n",
            "banana\n",
            "cherry\n"
          ]
        }
      ]
    },
    {
      "cell_type": "markdown",
      "source": [
        "#### vi) Support for Slicing:\n",
        "\n",
        "Lists support slicing, allowing you to extract a sublist or a range of elements from a list by specifying a start and stop index, as well as an optional step size."
      ],
      "metadata": {
        "id": "0GZmZ5LxZEkE"
      }
    },
    {
      "cell_type": "code",
      "source": [
        "my_list = [1, 2, 3, 4, 5, 6]\n",
        "print(my_list[1:4])   # Output: [2, 3, 4]\n",
        "print(my_list[::2])   # Output: [1, 3, 5] (every second element)\n"
      ],
      "metadata": {
        "colab": {
          "base_uri": "https://localhost:8080/"
        },
        "id": "UuB8qZhTY8Pl",
        "outputId": "9805750d-bfda-47eb-f7fe-1d7b481738e0"
      },
      "execution_count": null,
      "outputs": [
        {
          "output_type": "stream",
          "name": "stdout",
          "text": [
            "[2, 3, 4]\n",
            "[1, 3, 5]\n"
          ]
        }
      ]
    },
    {
      "cell_type": "markdown",
      "source": [
        "#### vii) Supports Multiple Operations:\n",
        "\n",
        "Lists support a wide range of operations and methods for modification and querying:\n",
        "\n",
        "Adding elements: .append(), .insert(), .extend()\n",
        "Removing elements: .remove(), .pop(), .clear()\n",
        "Counting occurrences: .count()\n",
        "Finding index: .index()\n",
        "Sorting: .sort(), .reverse()\n",
        "Copying: .copy()\n",
        "Example:"
      ],
      "metadata": {
        "id": "ZFrkmVa0ZXw3"
      }
    },
    {
      "cell_type": "code",
      "source": [
        "my_list = [5, 2, 9, 1, 3]\n",
        "my_list.sort()  # Sorts in ascending order\n",
        "print(my_list)  # Output: [1, 2, 3, 5, 9]\n",
        "\n",
        "my_list.append(7)  # Adds 7 at the end\n",
        "print(my_list)  # Output: [1, 2, 3, 5, 9, 7]\n",
        "\n",
        "my_list.pop()  # Removes the last element\n",
        "print(my_list)  # Output: [1, 2, 3, 5, 9]\n",
        "\n",
        "\n"
      ],
      "metadata": {
        "colab": {
          "base_uri": "https://localhost:8080/"
        },
        "id": "QT61bd_WZLRT",
        "outputId": "7631bc4a-d77e-44e1-8ad9-af0721f2b351"
      },
      "execution_count": null,
      "outputs": [
        {
          "output_type": "stream",
          "name": "stdout",
          "text": [
            "[1, 2, 3, 5, 9]\n",
            "[1, 2, 3, 5, 9, 7]\n",
            "[1, 2, 3, 5, 9]\n"
          ]
        }
      ]
    },
    {
      "cell_type": "markdown",
      "source": [
        "#### viii) Allow Nested Lists:\n",
        "\n",
        "Lists can contain other lists, which allows for multi-dimensional structures (nested lists).\n",
        "This feature is commonly used to represent matrices or more complex data structures."
      ],
      "metadata": {
        "id": "wnec8WVSZiAg"
      }
    },
    {
      "cell_type": "code",
      "source": [
        "my_list = [[1, 2, 3], [4, 5, 6], [7, 8, 9]]\n",
        "print(my_list[0])  # Output: [1, 2, 3]\n",
        "print(my_list[0][1])  # Output: 2 (Accessing nested elements)\n"
      ],
      "metadata": {
        "colab": {
          "base_uri": "https://localhost:8080/"
        },
        "id": "bd87R5hPZebx",
        "outputId": "6ec240c4-8388-4493-f58c-eaee0962734f"
      },
      "execution_count": null,
      "outputs": [
        {
          "output_type": "stream",
          "name": "stdout",
          "text": [
            "[1, 2, 3]\n",
            "2\n"
          ]
        }
      ]
    },
    {
      "cell_type": "markdown",
      "source": [
        "#### ix) Iterability:\n",
        "\n",
        "Lists are iterable, which means you can loop through them using a for loop or other iteration methods."
      ],
      "metadata": {
        "id": "LS7VLMeZZqvZ"
      }
    },
    {
      "cell_type": "code",
      "source": [
        "my_list = [1, 2, 3, 4]\n",
        "for item in my_list:\n",
        "    print(item)\n",
        "# Output: 1, 2, 3, 4\n"
      ],
      "metadata": {
        "colab": {
          "base_uri": "https://localhost:8080/"
        },
        "id": "BSyp7xkCZoe0",
        "outputId": "bbfacdec-33fa-451f-cc4c-371f9bec238e"
      },
      "execution_count": null,
      "outputs": [
        {
          "output_type": "stream",
          "name": "stdout",
          "text": [
            "1\n",
            "2\n",
            "3\n",
            "4\n"
          ]
        }
      ]
    },
    {
      "cell_type": "markdown",
      "source": [
        "#### x) Memory Efficiency:\n",
        "\n",
        "Python lists use dynamic arrays, and while they can resize automatically, there may be performance implications when lists grow large, due to memory reallocation. However, for typical usage, this is not a concern for most applications."
      ],
      "metadata": {
        "id": "43e3Qe20Z1cZ"
      }
    },
    {
      "cell_type": "markdown",
      "source": [
        "#### xi)  Type Checking:\n",
        "\n",
        "Unlike some other data structures in Python (like arrays from the array module), lists do not enforce type constraints. You can mix data types freely within the same list."
      ],
      "metadata": {
        "id": "rZSF-RzxaEab"
      }
    },
    {
      "cell_type": "code",
      "source": [
        "my_list = [1, \"hello\", 3.14, True]\n",
        "print(my_list)  # Output: [1, 'hello', 3.14, True]\n"
      ],
      "metadata": {
        "colab": {
          "base_uri": "https://localhost:8080/"
        },
        "id": "mqPeEE3YZyQw",
        "outputId": "2c582a69-2d2b-412b-aaee-760e5d40c58a"
      },
      "execution_count": null,
      "outputs": [
        {
          "output_type": "stream",
          "name": "stdout",
          "text": [
            "[1, 'hello', 3.14, True]\n"
          ]
        }
      ]
    },
    {
      "cell_type": "markdown",
      "source": [
        "#### Question no 3.) Describe how to access, modify, and delete elements in a list with examples.\n",
        "##### Ans:\n",
        "In Python, a list is a mutable collection of ordered elements. You can access, modify, and delete elements in a list using various methods. Here's a breakdown of how to perform these operations:\n"
      ],
      "metadata": {
        "id": "Ulq9ViszKLE4"
      }
    },
    {
      "cell_type": "markdown",
      "source": [
        "##### i.) 1. Accessing Elements in a List\n",
        "\n",
        "###### You can access elements in a list by using an index. Python lists are zero-indexed, meaning the first element is at index 0, the second element at index 1, and so on.\n",
        "\n",
        "Example:\n",
        "\n",
        "\n",
        "\n",
        ""
      ],
      "metadata": {
        "id": "n1cRJP7oL-Mu"
      }
    },
    {
      "cell_type": "code",
      "source": [
        "my_list = [10, 20, 30, 40, 50]\n",
        "\n",
        "# Accessing elements by index\n",
        "print(my_list[0])  # Output: 10 (First element)\n",
        "print(my_list[2])  # Output: 30 (Third element)\n",
        "print(my_list[-1]) # Output: 50 (Last element using negative indexing)\n"
      ],
      "metadata": {
        "colab": {
          "base_uri": "https://localhost:8080/"
        },
        "id": "MgJckGYqMgh2",
        "outputId": "7cff81a9-ec33-4dc0-f055-9bcc5f92698b"
      },
      "execution_count": 1,
      "outputs": [
        {
          "output_type": "stream",
          "name": "stdout",
          "text": [
            "10\n",
            "30\n",
            "50\n"
          ]
        }
      ]
    },
    {
      "cell_type": "markdown",
      "source": [
        "##### ii.) Modifying Elements in a List\n",
        "\n",
        "#####: You can modify the value of an element in a list by accessing it via its index and assigning a new value\n",
        "\n",
        "Example:\n"
      ],
      "metadata": {
        "id": "37j1wqUAMpgt"
      }
    },
    {
      "cell_type": "code",
      "source": [
        "my_list = [10, 20, 30, 40, 50]\n",
        "\n",
        "# Modifying an element\n",
        "my_list[1] = 25  # Change the second element (index 1) to 25\n",
        "\n",
        "print(my_list)  # Output: [10, 25, 30, 40, 50]\n"
      ],
      "metadata": {
        "colab": {
          "base_uri": "https://localhost:8080/"
        },
        "id": "4lfUqI4hM6JF",
        "outputId": "b5897e03-c753-434f-cc3e-de895f29bf10"
      },
      "execution_count": 2,
      "outputs": [
        {
          "output_type": "stream",
          "name": "stdout",
          "text": [
            "[10, 25, 30, 40, 50]\n"
          ]
        }
      ]
    },
    {
      "cell_type": "markdown",
      "source": [
        "###### You can also modify multiple elements using slicing:"
      ],
      "metadata": {
        "id": "2yidejDDM-xk"
      }
    },
    {
      "cell_type": "code",
      "source": [
        "my_list[2:4] = [35, 45]  # Change the third and fourth elements\n",
        "print(my_list)  # Output: [10, 25, 35, 45, 50]\n"
      ],
      "metadata": {
        "colab": {
          "base_uri": "https://localhost:8080/"
        },
        "id": "63NcO5JXNBJN",
        "outputId": "8e9b7f64-555d-4f66-f713-f77f457b794f"
      },
      "execution_count": 3,
      "outputs": [
        {
          "output_type": "stream",
          "name": "stdout",
          "text": [
            "[10, 25, 35, 45, 50]\n"
          ]
        }
      ]
    },
    {
      "cell_type": "markdown",
      "source": [
        "##### iii.) Deleting Elements in a List\n",
        "\n",
        "#####: You can remove elements from a list using various methods, such as del, remove(), and pop().\n",
        "\n",
        "*) del: Removes an element by index.\n",
        "*) remove(): Removes the first occurrence of a specific value.\n",
        "*) pop(): Removes and returns an element at a specific index (or the last\n",
        "   element\n",
        "   if no index is provided).\n",
        "   "
      ],
      "metadata": {
        "id": "EFaVB51tNP9N"
      }
    },
    {
      "cell_type": "markdown",
      "source": [
        " Examples\n",
        "*) using del :"
      ],
      "metadata": {
        "id": "UPgtB3hKOMSc"
      }
    },
    {
      "cell_type": "code",
      "source": [
        "my_list = [10, 20, 30, 40, 50]\n",
        "\n",
        "# Deleting an element by index\n",
        "del my_list[2]  # Deletes the element at index 2 (30)\n",
        "\n",
        "print(my_list)  # Output: [10, 20, 40, 50]\n"
      ],
      "metadata": {
        "colab": {
          "base_uri": "https://localhost:8080/"
        },
        "id": "MikNyxYqObh8",
        "outputId": "3d1372e1-cb83-4e69-ada2-7de431c4d8d5"
      },
      "execution_count": 4,
      "outputs": [
        {
          "output_type": "stream",
          "name": "stdout",
          "text": [
            "[10, 20, 40, 50]\n"
          ]
        }
      ]
    },
    {
      "cell_type": "markdown",
      "source": [
        "* Using remove() :"
      ],
      "metadata": {
        "id": "zZwqgviEOkL8"
      }
    },
    {
      "cell_type": "code",
      "source": [
        "my_list = [10, 20, 30, 40, 50]\n",
        "\n",
        "# Removing a specific value (first occurrence)\n",
        "my_list.remove(40)  # Removes the first occurrence of 40\n",
        "\n",
        "print(my_list)  # Output: [10, 20, 30, 50]\n"
      ],
      "metadata": {
        "id": "dLNftAX8aPZF",
        "colab": {
          "base_uri": "https://localhost:8080/"
        },
        "outputId": "2a89ac86-0e96-4141-dc15-b94bb24fe77f"
      },
      "execution_count": 5,
      "outputs": [
        {
          "output_type": "stream",
          "name": "stdout",
          "text": [
            "[10, 20, 30, 50]\n"
          ]
        }
      ]
    },
    {
      "cell_type": "markdown",
      "source": [
        "*) Using pop():"
      ],
      "metadata": {
        "id": "VvMOuFRVO0n0"
      }
    },
    {
      "cell_type": "code",
      "source": [
        "my_list = [10, 20, 30, 40, 50]\n",
        "\n",
        "# Popping an element by index\n",
        "popped_element = my_list.pop(1)  # Removes and returns the element at index 1 (20)\n",
        "\n",
        "print(my_list)          # Output: [10, 30, 40, 50]\n",
        "print(popped_element)  # Output: 20\n"
      ],
      "metadata": {
        "colab": {
          "base_uri": "https://localhost:8080/"
        },
        "id": "4XBDaOmvOuho",
        "outputId": "2dfe1268-c981-47f8-a86c-3b0d3494d7b5"
      },
      "execution_count": 6,
      "outputs": [
        {
          "output_type": "stream",
          "name": "stdout",
          "text": [
            "[10, 30, 40, 50]\n",
            "20\n"
          ]
        }
      ]
    },
    {
      "cell_type": "code",
      "source": [
        "# You can also use pop() without an index to remove and return the last element of the list:\n",
        "\n",
        "my_list = [10, 20, 30, 40, 50]\n",
        "\n",
        "# Popping the last element\n",
        "last_element = my_list.pop()\n",
        "\n",
        "print(my_list)        # Output: [10, 20, 30, 40]\n",
        "print(last_element)  # Output: 50\n"
      ],
      "metadata": {
        "colab": {
          "base_uri": "https://localhost:8080/"
        },
        "id": "_z9QeuZXPFkL",
        "outputId": "b8716adb-8209-4a52-e4e8-4402bba4696a"
      },
      "execution_count": 7,
      "outputs": [
        {
          "output_type": "stream",
          "name": "stdout",
          "text": [
            "[10, 20, 30, 40]\n",
            "50\n"
          ]
        }
      ]
    },
    {
      "cell_type": "markdown",
      "source": [
        "#### Question no 4.) Compare and contrast tuples and lists with examples.\n",
        "\n",
        "##### Ans:\n",
        "In Python, tuples and lists are both ordered collections used to store multiple items, but they differ in several important ways. Here's a comparison of their key characteristics, followed by examples:"
      ],
      "metadata": {
        "id": "kCyTJUjUPN-r"
      }
    },
    {
      "cell_type": "markdown",
      "source": [
        "##### i.) Mutability:\n",
        "\n",
        "*)  List: A list is mutable, meaning you can change its elements after creation (add, remove, or modify items).\n",
        "\n",
        "*) Tuple: A tuple is immutable, meaning once it's created, you cannot modify its elements. Any attempt to modify a tuple will result in a TypeError."
      ],
      "metadata": {
        "id": "vty1RqwzPje0"
      }
    },
    {
      "cell_type": "code",
      "source": [
        "# Example list of (Mutable)\n",
        "\n",
        "my_list = [10, 20, 30]\n",
        "my_list[1] = 25  # Modifying an element\n",
        "my_list.append(40)  # Adding a new element\n",
        "print(my_list)  # Output: [10, 25, 30, 40]\n"
      ],
      "metadata": {
        "colab": {
          "base_uri": "https://localhost:8080/"
        },
        "id": "SG4563r8P7ts",
        "outputId": "bcaa86cd-1266-4313-a351-534d9b579f51"
      },
      "execution_count": 8,
      "outputs": [
        {
          "output_type": "stream",
          "name": "stdout",
          "text": [
            "[10, 25, 30, 40]\n"
          ]
        }
      ]
    },
    {
      "cell_type": "code",
      "source": [
        "# Example of Tuple (Immutable):\n",
        "\n",
        "my_tuple = (10, 20, 30)\n",
        "# my_tuple[1] = 25  # This would raise a TypeError because tuples are immutable\n",
        "# my_tuple.append(40)  # This would also raise an AttributeError because tuples don't have append()\n"
      ],
      "metadata": {
        "id": "8D6dNVoQO5Oo"
      },
      "execution_count": 9,
      "outputs": []
    },
    {
      "cell_type": "markdown",
      "source": [
        "##### ii.) Syntax:\n",
        "\n",
        "*) List: Lists are defined using square brackets [].\n",
        "\n",
        "*) Tuple: Tuples are defined using parentheses ().\n",
        "\n",
        "Example"
      ],
      "metadata": {
        "id": "19dLc4jTQXTy"
      }
    },
    {
      "cell_type": "code",
      "source": [
        "# List\n",
        "my_list = [1, 2, 3]\n",
        "\n",
        "# Tuple\n",
        "my_tuple = (1, 2, 3)\n"
      ],
      "metadata": {
        "id": "CmlHiazGQkFJ"
      },
      "execution_count": 10,
      "outputs": []
    },
    {
      "cell_type": "markdown",
      "source": [
        "##### iii.) Performance:\n",
        "\n",
        "*) List: Because lists are mutable, they tend to have slightly more overhead in terms of memory and performance compared to tuples.\n",
        "\n",
        "*) Tuple: Tuples, being immutable, are generally faster to process than lists, especially for iteration. This makes them a better choice when you have a fixed set of data that doesn't need to be modified.\n",
        "\n",
        "Example of Performance (Not directly visible, but generally true):"
      ],
      "metadata": {
        "id": "bF55USEwQpnK"
      }
    },
    {
      "cell_type": "code",
      "source": [
        "import time\n",
        "\n",
        "# Timing a list operation\n",
        "start_time = time.time()\n",
        "my_list = [x for x in range(1000000)]\n",
        "end_time = time.time()\n",
        "print(\"List creation time:\", end_time - start_time)\n",
        "\n",
        "# Timing a tuple operation\n",
        "start_time = time.time()\n",
        "my_tuple = tuple(x for x in range(1000000))\n",
        "end_time = time.time()\n",
        "print(\"Tuple creation time:\", end_time - start_time)\n"
      ],
      "metadata": {
        "colab": {
          "base_uri": "https://localhost:8080/"
        },
        "id": "9gM9njK8Q-Qa",
        "outputId": "9f97e69d-5a2e-49aa-9991-d39718384801"
      },
      "execution_count": 11,
      "outputs": [
        {
          "output_type": "stream",
          "name": "stdout",
          "text": [
            "List creation time: 0.10326457023620605\n",
            "Tuple creation time: 0.1416010856628418\n"
          ]
        }
      ]
    },
    {
      "cell_type": "markdown",
      "source": [
        "#### iv.) Use Cases:\n",
        "\n",
        "*) List: Use a list when you need a collection that is likely to change over time. This includes scenarios where you might need to add or remove items, or if the collection will be modified after creation.\n",
        "\n",
        "*) Tuple: Use a tuple when the collection should be constant (i.e., won't change) or when you need to ensure that the data cannot be accidentally altered. Tuples are often used for fixed data, such as coordinates or database records, and as keys in dictionaries (since they are hashable).\n",
        "\n",
        "#### v.) Methods:\n",
        "\n",
        "*) List: Lists have many built-in methods for modifying data, such as append(), extend(), remove(), pop(), insert(), sort(), and reverse().\n",
        "\n",
        "*) Tuple: Tuples have fewer methods because they are immutable. The only methods available are count() (to count occurrences of an element) and index() (to find the index of an element).\n",
        "\n",
        "Example of List Methods:"
      ],
      "metadata": {
        "id": "FNnl2l0ARFzY"
      }
    },
    {
      "cell_type": "code",
      "source": [
        "my_list = [1, 2, 3, 4]\n",
        "\n",
        "# Add an item\n",
        "my_list.append(5)\n",
        "print(my_list)  # Output: [1, 2, 3, 4, 5]\n",
        "\n",
        "# Remove an item\n",
        "my_list.remove(2)\n",
        "print(my_list)  # Output: [1, 3, 4, 5]\n",
        "\n",
        "# Pop an item (remove and return it)\n",
        "popped_item = my_list.pop()\n",
        "print(popped_item)  # Output: 5\n",
        "print(my_list)  # Output: [1, 3, 4]\n"
      ],
      "metadata": {
        "colab": {
          "base_uri": "https://localhost:8080/"
        },
        "id": "uwCSaVtNQTFQ",
        "outputId": "e7ab4991-d6ec-4cbf-f12e-99e799955b76"
      },
      "execution_count": 12,
      "outputs": [
        {
          "output_type": "stream",
          "name": "stdout",
          "text": [
            "[1, 2, 3, 4, 5]\n",
            "[1, 3, 4, 5]\n",
            "5\n",
            "[1, 3, 4]\n"
          ]
        }
      ]
    },
    {
      "cell_type": "markdown",
      "source": [
        "Example of Tuple Methods:"
      ],
      "metadata": {
        "id": "zNqq9ua5R6tS"
      }
    },
    {
      "cell_type": "code",
      "source": [
        "my_tuple = (1, 2, 3, 1, 4)\n",
        "\n",
        "# Count occurrences of an element\n",
        "print(my_tuple.count(1))  # Output: 2\n",
        "\n",
        "# Find the index of an element\n",
        "print(my_tuple.index(3))  # Output: 2\n"
      ],
      "metadata": {
        "colab": {
          "base_uri": "https://localhost:8080/"
        },
        "id": "PB_MXC-SR78y",
        "outputId": "04b013a6-2282-4b3a-a31d-84c5a6be82a3"
      },
      "execution_count": 13,
      "outputs": [
        {
          "output_type": "stream",
          "name": "stdout",
          "text": [
            "2\n",
            "2\n"
          ]
        }
      ]
    },
    {
      "cell_type": "markdown",
      "source": [
        "#### vi.)  Immutability and Hashability:\n",
        "\n",
        "* List: Since lists are mutable, they are not hashable and cannot be used as dictionary keys.\n",
        "\n",
        "* Tuple: Since tuples are immutable, they are hashable (provided all their elements are also hashable), which allows them to be used as keys in dictionaries or stored in sets.\n",
        "\n",
        "Example (Tuples as Dictionary Keys):"
      ],
      "metadata": {
        "id": "JunIFlScSEdx"
      }
    },
    {
      "cell_type": "code",
      "source": [
        "# Using tuple as dictionary key\n",
        "my_dict = {}\n",
        "key = (1, 2, 3)  # Tuple\n",
        "my_dict[key] = \"Tuple key\"\n",
        "print(my_dict)  # Output: {(1, 2, 3): 'Tuple key'}\n"
      ],
      "metadata": {
        "colab": {
          "base_uri": "https://localhost:8080/"
        },
        "id": "jouy1aFYSUfJ",
        "outputId": "09ad7f08-c853-4cdc-8a36-7db5da16ea6e"
      },
      "execution_count": 14,
      "outputs": [
        {
          "output_type": "stream",
          "name": "stdout",
          "text": [
            "{(1, 2, 3): 'Tuple key'}\n"
          ]
        }
      ]
    },
    {
      "cell_type": "markdown",
      "source": [
        "Lists cannot be used as dictionary keys because they are mutable:"
      ],
      "metadata": {
        "id": "d_8v7ClcSYqP"
      }
    },
    {
      "cell_type": "code",
      "source": [
        "my_dict = {}\n",
        "# my_dict[[1, 2, 3]] = \"List key\"  # This will raise a TypeError\n"
      ],
      "metadata": {
        "id": "BEZr-2zDSZ2I"
      },
      "execution_count": 15,
      "outputs": []
    },
    {
      "cell_type": "markdown",
      "source": [
        "#### vii.) Packing and Unpacking:\n",
        "\n",
        "Both lists and tuples support packing and unpacking, but since tuples are immutable, they are often used for packing related pieces of data together and then unpacking them when needed.\n",
        "\n",
        "Example of Packing and Unpacking:"
      ],
      "metadata": {
        "id": "J-KSa6hySedB"
      }
    },
    {
      "cell_type": "code",
      "source": [
        "# Packing\n",
        "coordinates = (10, 20)  # Tuple\n",
        "\n",
        "# Unpacking\n",
        "x, y = coordinates\n",
        "print(x, y)  # Output: 10 20\n"
      ],
      "metadata": {
        "colab": {
          "base_uri": "https://localhost:8080/"
        },
        "id": "0dO-L3-qSnEB",
        "outputId": "ed83c4ca-c746-4c13-a0f6-bc9f3903da6b"
      },
      "execution_count": 16,
      "outputs": [
        {
          "output_type": "stream",
          "name": "stdout",
          "text": [
            "10 20\n"
          ]
        }
      ]
    },
    {
      "cell_type": "markdown",
      "source": [
        "Lists can also be unpacked, but they are usually not used for packing multiple different types of data together (that’s where tuples are more commonly used)."
      ],
      "metadata": {
        "id": "OxQ8NFHQSvbB"
      }
    },
    {
      "cell_type": "markdown",
      "source": [
        "#### Question no . 5)  Describe the key features of sets and provide examples of their use\n",
        "\n",
        "###### Ans: Key Features of Sets\n",
        "\n",
        "A set is a fundamental concept in mathematics and computer science, characterized by several key features:\n",
        "\n",
        "##### i.) Unordered Collection:\n",
        "\n",
        "Sets are unordered, meaning the elements do not have a specific sequence or order.\n",
        "Example: {3, 1, 4} represents the same set as {4, 3, 1} because the order of the elements doesn't matter.\n",
        "\n",
        "##### ii.) Unique Elements:\n",
        "\n",
        "A set contains only unique elements, meaning duplicates are automatically removed.\n",
        "Example: {1, 2, 2, 3} is equivalent to {1, 2, 3} because the duplicate \"2\" is discarded.\n",
        "\n",
        "##### iii.) No Repetition:\n",
        "\n",
        "As a consequence of the uniqueness property, a set can only contain each element once. This also means that sets can be thought of as collections of distinct objects.\n",
        "Example: {apple, banana, apple} is treated as {apple, banana}.\n",
        "\n",
        "##### iv.) Mathematical Definition:\n",
        "\n",
        "A set is often denoted by curly braces {} and can be represented using either explicit listing (enumeration) or set-builder notation.\n",
        "Explicit listing: {1, 2, 3} (all the elements are listed explicitly).\n",
        "Set-builder notation: {x | x is a prime number less than 10} (the set of all prime numbers less than 10).\n",
        "\n",
        "##### v.) Operations on Sets: Sets support various set operations that are used to combine or compare sets. Some common operations include:\n",
        "\n",
        "*) Union: Combines all the elements from two sets.\n",
        "Example: {1, 2, 3} ∪ {3, 4, 5} = {1, 2, 3, 4, 5}\n",
        "\n",
        "*) Intersection: Returns only the common elements from two sets.\n",
        "Example: {1, 2, 3} ∩ {2, 3, 4} = {2, 3}\n",
        "\n",
        "*) Difference: Returns elements in the first set but not in the second.\n",
        "Example: {1, 2, 3} - {2, 3, 4} = {1}\n",
        "\n",
        "*) Symmetric Difference: Returns elements in either of the sets but not in both.\n",
        "Example: {1, 2, 3} Δ {3, 4, 5} = {1, 2, 4, 5}\n",
        "\n",
        "###### vi.) Subset and Superset:\n",
        "\n",
        "*) A set A is a subset of another set B if every element of A is also an  \n",
        "   element of B.\n",
        "Example: {1, 2} ⊆ {1, 2, 3} (A is a subset of B).\n",
        "\n",
        "*) A set B is a superset of set A if B contains every element of A.\n",
        "Example: {1, 2, 3} ⊇ {1, 2} (B is a superset of A).\n",
        "\n",
        "##### vii.) Cardinality:\n",
        "\n",
        "The cardinality of a set refers to the number of elements in the set.\n",
        "Example: The cardinality of {a, b, c} is 3.\n",
        "\n",
        "##### viii.) Infinite Sets:\n",
        "\n",
        "A set can be finite (having a limited number of elements) or infinite (having an unlimited number of elements).\n",
        "Finite: {1, 2, 3}\n",
        "Infinite: {1, 2, 3, 4, 5, ...} (the set of all natural numbers).\n",
        "\n",
        "\n",
        "##### Examples of Set Usage\n",
        "\n",
        "##### Mathematics:\n",
        "\n",
        "*) Prime Numbers Less Than 10: The set of prime numbers less than 10 is {2, 3,\n",
        "   5, 7}.\n",
        "*) Venn Diagrams: Sets are used to visualize relationships between different\n",
        "   groups (union, intersection, difference).\n",
        "*) Number Theory: Sets are used to describe number properties, such as the set\n",
        "   of even numbers, prime numbers, or factors of a number.\n",
        "\n",
        "##### Computer Science:\n",
        "\n",
        "*)Data Structures: In many programming languages, sets are a built-in data type\n",
        "  (e.g., Python’s set, Java’s HashSet).\n",
        "  Example: In Python, you can create a set of unique numbers using s = {1, 2, 3, 4}.\n",
        "*) Search Operations: Sets are used to quickly check for membership, as  \n",
        "   checking if an element is in a set is often faster than searching through a list.\n",
        "   Example: To check if a number exists in a set, if x in my_set:\n",
        "*) Database Queries: Sets are used in querying databases, especially for\n",
        "   operations like finding common or distinct records across multiple datasets.\n",
        "\n",
        "##### Everyday Use:\n",
        "\n",
        "*) Grouping Objects: You can think of sets in everyday life as collections of\n",
        "  unique items, like a set of colored pencils ({red, green, blue}), where the order doesn't matter, and duplicates are not allowed.\n",
        "*) Playlist: A music playlist with unique songs, where the order doesn't  \n",
        "   matter, and duplicate songs are not allowed.\n",
        "*) Survey Results: If you're collecting answers to a yes/no survey, you might\n",
        "   use a set to store all the \"Yes\" answers to avoid duplication.\n"
      ],
      "metadata": {
        "id": "Xw23uv64S4GA"
      }
    },
    {
      "cell_type": "markdown",
      "source": [
        "#### Question no . 6) Discuss the use cases of tuples and sets in Python programming.\n",
        "\n",
        "##### Ans: In Python programming, tuples and sets are both used to store collections of data, but they have different characteristics and use cases due to their distinct properties. Let's break down how each is used and where they are most beneficial:\n",
        "\n",
        "##### i.)  **Tuples in Python**\n",
        "\n",
        "A tuple is an ordered, immutable collection of elements. Once a tuple is created, its contents cannot be changed (no item can be added, removed, or modified). Tuples can hold elements of any type, and elements are indexed, which allows for efficient access.\n",
        "\n",
        "**Key Features:**\n",
        "\n",
        "*   Ordered: The elements in a tuple maintain their order.\n",
        "*   Immutable: You cannot change the content of a tuple once it’s created.\n",
        "*   Heterogeneous: Tuples can store items of different data types (e.g., integers, strings, lists, etc.).\n",
        "*   Indexable and Slicable: You can access elements via indices, and use  slicing to extract sub-tuples.\n",
        "\n",
        "**Use Cases of Tuples:**\n",
        "  (i) Returning Multiple Values from Functions:\n",
        "\n",
        "Tuples are commonly used to return multiple values from a function, allowing a function to output several pieces of related data in a single return statement.\n",
        "\n",
        "Example:"
      ],
      "metadata": {
        "id": "kpfSacfnW5LO"
      }
    },
    {
      "cell_type": "code",
      "source": [
        "def get_coordinates():\n",
        "    return (40.7128, -74.0060)  # New York City's latitude and longitude\n",
        "\n",
        "lat, lon = get_coordinates()  # Unpack tuple\n",
        "print(lat, lon)  # 40.7128 -74.0060\n"
      ],
      "metadata": {
        "colab": {
          "base_uri": "https://localhost:8080/"
        },
        "id": "BdhcaYR2YjMd",
        "outputId": "e86d29b2-f952-4dbc-bb75-6a0d4e707aee"
      },
      "execution_count": 17,
      "outputs": [
        {
          "output_type": "stream",
          "name": "stdout",
          "text": [
            "40.7128 -74.006\n"
          ]
        }
      ]
    },
    {
      "cell_type": "markdown",
      "source": [
        "##### ii.) Storing Data That Should Not Change:\n",
        "\n",
        "        If you have data that should remain constant throughout the program (e.g., coordinates, RGB values), tuples are a good choice due to their immutability.\n",
        "\n",
        "        Example:"
      ],
      "metadata": {
        "id": "VuV4w4PZYm0D"
      }
    },
    {
      "cell_type": "code",
      "source": [
        "rgb_color = (255, 0, 0)  # Immutable tuple representing a red color\n"
      ],
      "metadata": {
        "id": "dnZCmAZ1Rm9E"
      },
      "execution_count": 18,
      "outputs": []
    },
    {
      "cell_type": "markdown",
      "source": [
        "##### iii) Heterogeneous Collections:\n",
        "\n",
        " Tuples can be used to group different types of data together, such as a person’s name, age, and address.\n",
        "\n",
        " Example:"
      ],
      "metadata": {
        "id": "_HgAniKMZCT0"
      }
    },
    {
      "cell_type": "code",
      "source": [
        "person = (\"Alice\", 30, \"New York\")\n"
      ],
      "metadata": {
        "id": "a5rCCibxZKMb"
      },
      "execution_count": 20,
      "outputs": []
    },
    {
      "cell_type": "markdown",
      "source": [
        "##### iv) Performance:\n",
        "\n",
        "*  Since tuples are immutable, they are generally faster than lists for iteration and access, and consume less memory.\n",
        "*  Tuples can be used when you need a collection of items that doesn’t change, providing some performance benefits.\n",
        "\n",
        "##### v.) As Keys in Dictionaries:\n",
        "\n",
        " Because tuples are immutable, they can be used as keys in dictionaries (while lists cannot).\n",
        "\n",
        " Example:"
      ],
      "metadata": {
        "id": "Usq7UpliZSSk"
      }
    },
    {
      "cell_type": "code",
      "source": [
        "location_data = {(\"New York\", \"NY\"): 8175133, (\"Los Angeles\", \"CA\"): 3792621}\n"
      ],
      "metadata": {
        "id": "5O69nE3vZoP6"
      },
      "execution_count": 21,
      "outputs": []
    },
    {
      "cell_type": "markdown",
      "source": [
        "##### vi.) Packing and Unpacking:\n",
        "\n",
        "Tuples are often used in Python for packing and unpacking. This is a feature that makes working with tuples convenient when extracting multiple elements at once.\n",
        "\n",
        "Examle:\n"
      ],
      "metadata": {
        "id": "neFE9AhZZuoz"
      }
    },
    {
      "cell_type": "code",
      "source": [
        "point = (3, 4)\n",
        "x, y = point  # Unpacking tuple into variables x and y\n"
      ],
      "metadata": {
        "id": "Fe6nRJYzZ3kb"
      },
      "execution_count": 22,
      "outputs": []
    },
    {
      "cell_type": "markdown",
      "source": [
        "##### **Sets in Python**\n",
        "\n",
        "A set is an unordered collection of unique elements. Unlike tuples, sets are mutable, meaning you can add or remove elements. Sets are great for operations where you need to test membership, remove duplicates, or perform mathematical set operations like union, intersection, and difference.\n",
        "\n",
        "**Key Features:**\n",
        "\n",
        "*  Unordered: The elements do not maintain any order.\n",
        "*  Mutable: You can add or remove elements.\n",
        "*  Unique Elements: Sets automatically eliminate duplicate values.\n",
        "*  No Indexing: You cannot access elements by an index as you can with lists or tuples.\n",
        "\n",
        "***Use Cases of Sets:***\n",
        "\n",
        "##### i.) Removing Duplicates from a Collection:\n",
        "\n",
        "Sets are perfect for removing duplicate values from a list or other collection. If you need a collection of unique elements, simply convert a list to a set.\n",
        "\n",
        "Example:\n"
      ],
      "metadata": {
        "id": "8ONV29jPaKRM"
      }
    },
    {
      "cell_type": "code",
      "source": [
        "numbers = [1, 2, 2, 3, 4, 4, 5]\n",
        "unique_numbers = set(numbers)\n",
        "print(unique_numbers)  # {1, 2, 3, 4, 5}\n"
      ],
      "metadata": {
        "colab": {
          "base_uri": "https://localhost:8080/"
        },
        "id": "Chnp7DvHa9ZJ",
        "outputId": "77c47ddb-6633-41ec-cc0f-5bdc27a4e75f"
      },
      "execution_count": 23,
      "outputs": [
        {
          "output_type": "stream",
          "name": "stdout",
          "text": [
            "{1, 2, 3, 4, 5}\n"
          ]
        }
      ]
    },
    {
      "cell_type": "markdown",
      "source": [
        "##### ii.) Membership Testing:\n",
        "\n",
        "Sets provide a fast way to test if an element exists in a collection due to their implementation based on hash tables. Checking membership in a set is typically faster than checking in a list or tuple.\n",
        "\n",
        "Example:\n"
      ],
      "metadata": {
        "id": "5VKx5bfcbBvZ"
      }
    },
    {
      "cell_type": "code",
      "source": [
        "fruits = {\"apple\", \"banana\", \"cherry\"}\n",
        "if \"banana\" in fruits:\n",
        "    print(\"Banana is in the set!\")\n"
      ],
      "metadata": {
        "colab": {
          "base_uri": "https://localhost:8080/"
        },
        "id": "QdwgoZ-JbLGr",
        "outputId": "b1bd2f48-a2f6-497d-fd2b-35a88d808169"
      },
      "execution_count": 24,
      "outputs": [
        {
          "output_type": "stream",
          "name": "stdout",
          "text": [
            "Banana is in the set!\n"
          ]
        }
      ]
    },
    {
      "cell_type": "markdown",
      "source": [
        "##### iii.) Set Operations (Mathematical Operations):\n",
        "\n",
        "Sets support standard set operations like union, intersection, difference, and symmetric difference, making them ideal for performing these operations efficiently.\n",
        "\n",
        "Eaxmple:\n"
      ],
      "metadata": {
        "id": "opl9cfqubRRW"
      }
    },
    {
      "cell_type": "code",
      "source": [
        "set_a = {1, 2, 3, 4}\n",
        "set_b = {3, 4, 5, 6}\n",
        "\n",
        "# Union\n",
        "print(set_a | set_b)  # {1, 2, 3, 4, 5, 6}\n",
        "\n",
        "# Intersection\n",
        "print(set_a & set_b)  # {3, 4}\n",
        "\n",
        "# Difference\n",
        "print(set_a - set_b)  # {1, 2}\n",
        "\n",
        "# Symmetric Difference\n",
        "print(set_a ^ set_b)  # {1, 2, 5, 6}\n"
      ],
      "metadata": {
        "colab": {
          "base_uri": "https://localhost:8080/"
        },
        "id": "D5_2ejs_bYla",
        "outputId": "050f88b7-ab01-4b99-d339-316bb0e0259c"
      },
      "execution_count": 25,
      "outputs": [
        {
          "output_type": "stream",
          "name": "stdout",
          "text": [
            "{1, 2, 3, 4, 5, 6}\n",
            "{3, 4}\n",
            "{1, 2}\n",
            "{1, 2, 5, 6}\n"
          ]
        }
      ]
    },
    {
      "cell_type": "markdown",
      "source": [
        "##### iv.) Fast Removal and Insertion:\n",
        "\n",
        "Since sets are implemented using hash tables, adding or removing elements from a set is generally more efficient than doing so in a list or tuple.\n",
        "\n",
        "Example:"
      ],
      "metadata": {
        "id": "t4ikxDaRbeZB"
      }
    },
    {
      "cell_type": "code",
      "source": [
        "set_of_primes = {2, 3, 5, 7, 11}\n",
        "set_of_evens = {2, 4, 6, 8, 10}\n",
        "common = set_of_primes & set_of_evens  # Intersection of primes and evens\n",
        "print(common)  # {2}\n"
      ],
      "metadata": {
        "colab": {
          "base_uri": "https://localhost:8080/"
        },
        "id": "_G4tZ1BTbkJB",
        "outputId": "048ce348-2ef1-4bb1-e4f2-8c4e489d61ba"
      },
      "execution_count": 26,
      "outputs": [
        {
          "output_type": "stream",
          "name": "stdout",
          "text": [
            "{2}\n"
          ]
        }
      ]
    },
    {
      "cell_type": "markdown",
      "source": [
        "##### v.) Tracking Unique Items:\n",
        "\n",
        "Sets are often used in situations where you need to track unique items, such as collecting unique user IDs or unique keywords from a dataset.\n",
        "\n",
        "Example:\n"
      ],
      "metadata": {
        "id": "JKOFstG8bodg"
      }
    },
    {
      "cell_type": "code",
      "source": [
        "user_ids = set()\n",
        "user_ids.add(101)\n",
        "user_ids.add(102)\n",
        "user_ids.add(101)  # Duplicate ID, won't be added\n",
        "print(user_ids)  # {101, 102}\n"
      ],
      "metadata": {
        "colab": {
          "base_uri": "https://localhost:8080/"
        },
        "id": "t5d-ufLLbwJB",
        "outputId": "20842a14-5ba5-4efd-bc79-300baea73780"
      },
      "execution_count": 27,
      "outputs": [
        {
          "output_type": "stream",
          "name": "stdout",
          "text": [
            "{101, 102}\n"
          ]
        }
      ]
    },
    {
      "cell_type": "markdown",
      "source": [
        "##### vi.) Building Complex Data Structures:\n",
        "\n",
        "Sets can be used as elements of other sets or as dictionary keys (since they are immutable when frozen)."
      ],
      "metadata": {
        "id": "NLlLpxQkb3Op"
      }
    },
    {
      "cell_type": "code",
      "source": [
        "frozen_set = frozenset([1, 2, 3])  # Immutable set, can be used as a dictionary key\n",
        "my_dict = {frozen_set: \"value\"}\n"
      ],
      "metadata": {
        "id": "axsm-17hb8CJ"
      },
      "execution_count": 28,
      "outputs": []
    },
    {
      "cell_type": "markdown",
      "source": [
        "#### Question no 7.) Describe how to add, modify, and delete items in a dictionary with examples\n",
        "\n",
        "##### Ans: In Python, dictionaries are unordered collections of key-value pairs, where each key is unique. You can add, modify, and delete items in a dictionary using various methods. Here's how you can perform these operations:\n",
        "\n",
        "##### i.) **Adding Items to a Dictionary**\n",
        "\n",
        "You can add new items (key-value pairs) to a dictionary in two main ways:\n",
        "\n",
        "**Using Assignment:**\n",
        "*  If the key does not already exist, this operation adds a new key-value pair\n",
        "   to the dictionary.\n",
        "*  If the key already exists, it updates the value associated with that key.\n",
        "\n",
        "Example:"
      ],
      "metadata": {
        "id": "IfHdk904cqgx"
      }
    },
    {
      "cell_type": "code",
      "source": [
        "# Creating an empty dictionary\n",
        "my_dict = {}\n",
        "\n",
        "# Adding items (key-value pairs)\n",
        "my_dict[\"name\"] = \"Alice\"\n",
        "my_dict[\"age\"] = 30\n",
        "my_dict[\"city\"] = \"New York\"\n",
        "\n",
        "print(my_dict)\n",
        "# Output: {'name': 'Alice', 'age': 30, 'city': 'New York'}\n"
      ],
      "metadata": {
        "colab": {
          "base_uri": "https://localhost:8080/"
        },
        "id": "r_ObN7hYdZLw",
        "outputId": "718748ad-d91e-4d5f-c32c-ff7840959147"
      },
      "execution_count": 29,
      "outputs": [
        {
          "output_type": "stream",
          "name": "stdout",
          "text": [
            "{'name': 'Alice', 'age': 30, 'city': 'New York'}\n"
          ]
        }
      ]
    },
    {
      "cell_type": "markdown",
      "source": [
        "**Using update() Method:**\n",
        "\n",
        "*  The update() method can add one or more key-value pairs to the dictionary.  \n",
        "  It can also update the value of existing keys.\n",
        "\n",
        "Eaxmple:\n"
      ],
      "metadata": {
        "id": "NLB3Tvc8deBP"
      }
    },
    {
      "cell_type": "code",
      "source": [
        "# Creating an existing dictionary\n",
        "my_dict = {\"name\": \"Alice\", \"age\": 30}\n",
        "\n",
        "# Adding/updating multiple items at once\n",
        "my_dict.update({\"city\": \"New York\", \"age\": 31})  # Updates 'age' and adds 'city'\n",
        "\n",
        "print(my_dict)\n",
        "# Output: {'name': 'Alice', 'age': 31, 'city': 'New York'}\n"
      ],
      "metadata": {
        "colab": {
          "base_uri": "https://localhost:8080/"
        },
        "id": "g12982bOdqao",
        "outputId": "7c493033-2873-4882-b24f-7a3b1bd49d70"
      },
      "execution_count": 30,
      "outputs": [
        {
          "output_type": "stream",
          "name": "stdout",
          "text": [
            "{'name': 'Alice', 'age': 31, 'city': 'New York'}\n"
          ]
        }
      ]
    },
    {
      "cell_type": "markdown",
      "source": [
        "##### ii.) **Modifying Items in a Dictionary**\n",
        "\n",
        "To modify an existing item (i.e., change the value of an existing key), simply assign a new value to the key.\n",
        "\n",
        "**Using Assignment:**\n",
        "*  You can modify an existing key by directly assigning a new value to it.\n",
        "\n",
        "Example:\n"
      ],
      "metadata": {
        "id": "Ny5qTFZYd2tP"
      }
    },
    {
      "cell_type": "code",
      "source": [
        "# Creating a dictionary\n",
        "my_dict = {\"name\": \"Alice\", \"age\": 30, \"city\": \"New York\"}\n",
        "\n",
        "# Modifying the value associated with a key\n",
        "my_dict[\"age\"] = 31  # Update the 'age' value\n",
        "\n",
        "print(my_dict)\n",
        "# Output: {'name': 'Alice', 'age': 31, 'city': 'New York'}\n"
      ],
      "metadata": {
        "colab": {
          "base_uri": "https://localhost:8080/"
        },
        "id": "dP745ilmeOYX",
        "outputId": "e76cb77d-a5fd-4ac2-8e97-2048e636769f"
      },
      "execution_count": 31,
      "outputs": [
        {
          "output_type": "stream",
          "name": "stdout",
          "text": [
            "{'name': 'Alice', 'age': 31, 'city': 'New York'}\n"
          ]
        }
      ]
    },
    {
      "cell_type": "markdown",
      "source": [
        "**Using update() Method:**\n",
        "* You can also use update() to modify existing values. It works the same as\n",
        "  adding new key-value pairs, but only modifies the values of existing keys."
      ],
      "metadata": {
        "id": "w9xXFuYBeT02"
      }
    },
    {
      "cell_type": "code",
      "source": [
        "# Creating a dictionary\n",
        "my_dict = {\"name\": \"Alice\", \"age\": 30, \"city\": \"New York\"}\n",
        "\n",
        "# Modifying the 'city' value using update\n",
        "my_dict.update({\"city\": \"Los Angeles\"})\n",
        "\n",
        "print(my_dict)\n",
        "# Output: {'name': 'Alice', 'age': 30, 'city': 'Los Angeles'}\n"
      ],
      "metadata": {
        "colab": {
          "base_uri": "https://localhost:8080/"
        },
        "id": "ASfEl1ioeae2",
        "outputId": "79526eae-bdae-48ca-cc4d-f4d2e5f3ca78"
      },
      "execution_count": 32,
      "outputs": [
        {
          "output_type": "stream",
          "name": "stdout",
          "text": [
            "{'name': 'Alice', 'age': 30, 'city': 'Los Angeles'}\n"
          ]
        }
      ]
    },
    {
      "cell_type": "markdown",
      "source": [
        "##### iii.) **Deleting Items from a Dictionary**\n",
        "\n",
        "There are several ways to delete items from a dictionary:\n",
        "\n",
        "**Using del Statement:**\n",
        "The del statement removes a key-value pair from the dictionary by specifying the key."
      ],
      "metadata": {
        "id": "cP9CVVkpegDv"
      }
    },
    {
      "cell_type": "code",
      "source": [
        "# Creating a dictionary\n",
        "my_dict = {\"name\": \"Alice\", \"age\": 30, \"city\": \"New York\"}\n",
        "\n",
        "# Deleting an item by key\n",
        "del my_dict[\"age\"]\n",
        "\n",
        "print(my_dict)\n",
        "# Output: {'name': 'Alice', 'city': 'New York'}\n"
      ],
      "metadata": {
        "colab": {
          "base_uri": "https://localhost:8080/"
        },
        "id": "sm30why3evX3",
        "outputId": "facf10bd-294d-4e80-ac76-154d181bb859"
      },
      "execution_count": 33,
      "outputs": [
        {
          "output_type": "stream",
          "name": "stdout",
          "text": [
            "{'name': 'Alice', 'city': 'New York'}\n"
          ]
        }
      ]
    },
    {
      "cell_type": "markdown",
      "source": [
        "If the key doesn't exist, a KeyError will be raised.\n",
        "\n",
        "**Using pop() Method:**\n",
        "\n",
        "* The pop() method removes a key-value pair and returns the value associated with the key. If the key is not found, you can specify a default return value to avoid a KeyError.\n",
        "\n",
        "Example:"
      ],
      "metadata": {
        "id": "_l1QIp9ze0Xn"
      }
    },
    {
      "cell_type": "code",
      "source": [
        "# Creating a dictionary\n",
        "my_dict = {\"name\": \"Alice\", \"age\": 30, \"city\": \"New York\"}\n",
        "\n",
        "# Removing an item using pop and getting the value\n",
        "removed_value = my_dict.pop(\"age\")\n",
        "\n",
        "print(my_dict)\n",
        "# Output: {'name': 'Alice', 'city': 'New York'}\n",
        "\n",
        "print(removed_value)\n",
        "# Output: 30  (The value of 'age' was returned by pop)\n"
      ],
      "metadata": {
        "colab": {
          "base_uri": "https://localhost:8080/"
        },
        "id": "nMbBbGdpfCqA",
        "outputId": "a5d9049b-9fc0-497a-cad6-de16940a5ee6"
      },
      "execution_count": 34,
      "outputs": [
        {
          "output_type": "stream",
          "name": "stdout",
          "text": [
            "{'name': 'Alice', 'city': 'New York'}\n",
            "30\n"
          ]
        }
      ]
    },
    {
      "cell_type": "markdown",
      "source": [
        "* If you try to pop() a non-existent key and don’t provide a default, it raises a KeyError.\n",
        "\n",
        "Example with default value:"
      ],
      "metadata": {
        "id": "BXbiAnhnfJb-"
      }
    },
    {
      "cell_type": "code",
      "source": [
        "# Using pop with a default value\n",
        "removed_value = my_dict.pop(\"country\", \"Not Found\")\n",
        "\n",
        "print(removed_value)\n",
        "# Output: 'Not Found' (since 'country' does not exist in the dictionary)\n"
      ],
      "metadata": {
        "colab": {
          "base_uri": "https://localhost:8080/"
        },
        "id": "vJpFYnUxfUJu",
        "outputId": "6fa6e0dd-8dfe-471e-9614-877c6bbf1a59"
      },
      "execution_count": 35,
      "outputs": [
        {
          "output_type": "stream",
          "name": "stdout",
          "text": [
            "Not Found\n"
          ]
        }
      ]
    },
    {
      "cell_type": "markdown",
      "source": [
        "**Using popitem() Method:**\n",
        "\n",
        "* The popitem() method removes and returns an arbitrary (key, value) pair as a tuple. This method is useful if you want to remove and access the last item in the dictionary.\n",
        "\n",
        "Example:\n"
      ],
      "metadata": {
        "id": "8kTX2r4yfYQW"
      }
    },
    {
      "cell_type": "code",
      "source": [
        "# Creating a dictionary\n",
        "my_dict = {\"name\": \"Alice\", \"age\": 30, \"city\": \"New York\"}\n",
        "\n",
        "# Removing and getting the last item (arbitrary in dictionaries)\n",
        "removed_item = my_dict.popitem()\n",
        "\n",
        "print(my_dict)\n",
        "# Output: {'name': 'Alice', 'age': 30}\n",
        "\n",
        "print(removed_item)\n",
        "# Output: ('city', 'New York')  (The last item is removed and returned as a tuple)\n"
      ],
      "metadata": {
        "colab": {
          "base_uri": "https://localhost:8080/"
        },
        "id": "tupySt9qfhz2",
        "outputId": "8433cf8b-c4af-40e2-a0e8-3d75bf1bfde6"
      },
      "execution_count": 36,
      "outputs": [
        {
          "output_type": "stream",
          "name": "stdout",
          "text": [
            "{'name': 'Alice', 'age': 30}\n",
            "('city', 'New York')\n"
          ]
        }
      ]
    },
    {
      "cell_type": "markdown",
      "source": [
        "**Using clear() Method:**\n",
        "\n",
        "* The clear() method removes all items from the dictionary, effectively emptying it.\n",
        "\n",
        "Example:\n"
      ],
      "metadata": {
        "id": "RDMKKDr-fmNn"
      }
    },
    {
      "cell_type": "code",
      "source": [
        "# Creating a dictionary\n",
        "my_dict = {\"name\": \"Alice\", \"age\": 30, \"city\": \"New York\"}\n",
        "\n",
        "# Clearing all items in the dictionary\n",
        "my_dict.clear()\n",
        "\n",
        "print(my_dict)\n",
        "# Output: {}  (The dictionary is now empty)\n"
      ],
      "metadata": {
        "colab": {
          "base_uri": "https://localhost:8080/"
        },
        "id": "4iqG4L0-fube",
        "outputId": "2607bb49-5bfc-45b5-a8a8-f368390bb87d"
      },
      "execution_count": 37,
      "outputs": [
        {
          "output_type": "stream",
          "name": "stdout",
          "text": [
            "{}\n"
          ]
        }
      ]
    },
    {
      "cell_type": "markdown",
      "source": [
        "### Question no. 8) Discuss the importance of dictionary keys being immutable and provide examples.\n",
        "\n",
        "#### Ans:\n",
        "In Python, dictionary keys must be immutable, meaning they cannot be modified after they are created. This is an important characteristic because it ensures the consistency and reliability of the dictionary’s structure. Let’s dive into why immutability is crucial for dictionary keys, along with some examples to illustrate its importance.\n",
        "\n",
        "#### Why Dictionary Keys Must Be Immutable\n",
        "\n",
        " i.) **Hashing:**\n",
        "\n",
        "*  Dictionaries in Python are implemented as hash tables. This means that the keys of the dictionary are hashed to compute their location in memory. For this hashing to work efficiently and correctly, the key must remain constant. If the key were mutable (able to change after insertion), its hash value could change, leading to inconsistencies.\n",
        "\n",
        "*  The hash value is used to look up the key in the hash table, and if the key changes, the dictionary would not be able to find the correct key after it has been modified.\n",
        "\n",
        "ii.) **Ensuring Consistency:**\n",
        "\n",
        "*  If mutable objects were allowed as keys and were modified, the dictionary would lose track of the original key-value pair. For example, if a key is modified and the dictionary’s internal data structure relies on the original hash of that key, it could lead to data corruption or loss of access to the key-value pair.\n",
        "\n",
        "iii.) **Preventing Errors:**\n",
        "* The immutability of dictionary keys helps to avoid logical errors in the code. If you could change a key after it was added to a dictionary, it could unintentionally affect the dictionary’s structure and lead to unpredictable behavior.\n",
        "\n",
        "#### What Makes an Object Immutable?\n",
        "\n",
        "An object is considered immutable if its value cannot be changed after it is created. Immutable types in Python include:\n",
        "\n",
        "* Strings\n",
        "* Tuples\n",
        "* Integers\n",
        "* Floats\n",
        "* Booleans\n",
        "* frozensets\n",
        "\n",
        "Mutable types, such as lists, dictionaries, or sets, cannot be used as dictionary keys because their values can change.\n",
        "\n",
        "Examples of Immutable and Mutable Keys\n",
        "\n",
        "*** (i) Immutable Keys (Allowed)***\n",
        "\n",
        "Integers: Integers are immutable because their value cannot be changed after they are created."
      ],
      "metadata": {
        "id": "oThMCw86f5mq"
      }
    },
    {
      "cell_type": "code",
      "source": [
        "# Dictionary with integers as keys\n",
        "my_dict = {10: \"ten\", 20: \"twenty\"}\n",
        "print(my_dict[10])  # Output: ten\n"
      ],
      "metadata": {
        "colab": {
          "base_uri": "https://localhost:8080/"
        },
        "id": "y5hY_hrThvXl",
        "outputId": "8afe3122-c451-4e1c-c134-b376dd75e6d4"
      },
      "execution_count": 38,
      "outputs": [
        {
          "output_type": "stream",
          "name": "stdout",
          "text": [
            "ten\n"
          ]
        }
      ]
    },
    {
      "cell_type": "markdown",
      "source": [
        "* Strings: Strings are immutable, meaning you cannot modify the contents of a string after it is created."
      ],
      "metadata": {
        "id": "_x8eZxlzhycV"
      }
    },
    {
      "cell_type": "code",
      "source": [
        "# Dictionary with strings as keys\n",
        "my_dict = {\"apple\": 1, \"banana\": 2}\n",
        "print(my_dict[\"apple\"])  # Output: 1\n"
      ],
      "metadata": {
        "colab": {
          "base_uri": "https://localhost:8080/"
        },
        "id": "rGfhrLnJb7kZ",
        "outputId": "b3443348-a37c-489a-8770-59be56dd7730"
      },
      "execution_count": 39,
      "outputs": [
        {
          "output_type": "stream",
          "name": "stdout",
          "text": [
            "1\n"
          ]
        }
      ]
    },
    {
      "cell_type": "markdown",
      "source": [
        "*  Tuples: Tuples are immutable, so they can be used as dictionary keys."
      ],
      "metadata": {
        "id": "G_e3yiP9h3s1"
      }
    },
    {
      "cell_type": "code",
      "source": [
        "# Dictionary with tuples as keys\n",
        "my_dict = {(\"John\", \"Doe\"): 25, (\"Jane\", \"Smith\"): 30}\n",
        "print(my_dict[(\"John\", \"Doe\")])  # Output: 25\n"
      ],
      "metadata": {
        "colab": {
          "base_uri": "https://localhost:8080/"
        },
        "id": "kW9IsdUWh9rN",
        "outputId": "31bcac4c-93f1-4552-de13-40cc05a6118e"
      },
      "execution_count": 40,
      "outputs": [
        {
          "output_type": "stream",
          "name": "stdout",
          "text": [
            "25\n"
          ]
        }
      ]
    },
    {
      "cell_type": "markdown",
      "source": [
        "*  frozensets: Unlike regular sets, frozensets are immutable and can be used as dictionary keys."
      ],
      "metadata": {
        "id": "Z5B7i-X5iCa0"
      }
    },
    {
      "cell_type": "code",
      "source": [
        "# Dictionary with frozensets as keys\n",
        "my_dict = {frozenset([1, 2, 3]): \"Set 1\", frozenset([4, 5, 6]): \"Set 2\"}\n",
        "print(my_dict[frozenset([1, 2, 3])])  # Output: Set 1\n"
      ],
      "metadata": {
        "colab": {
          "base_uri": "https://localhost:8080/"
        },
        "id": "f3P-CcO2iFfc",
        "outputId": "5165d44d-a3ab-439c-98f1-613aa6487440"
      },
      "execution_count": 41,
      "outputs": [
        {
          "output_type": "stream",
          "name": "stdout",
          "text": [
            "Set 1\n"
          ]
        }
      ]
    },
    {
      "cell_type": "markdown",
      "source": [
        "*** (i) Mutable Keys (Not Allowed)***\n",
        "\n",
        "* Lists: Lists are mutable, meaning you can modify their content. As a result, they cannot be used as dictionary keys."
      ],
      "metadata": {
        "id": "uaruvWWCiSGz"
      }
    },
    {
      "cell_type": "code",
      "source": [
        "# Attempt to use a list as a dictionary key (raises TypeError)\n",
        "my_dict = {[1, 2, 3]: \"list\"}  # TypeError: unhashable type: 'list'\n"
      ],
      "metadata": {
        "colab": {
          "base_uri": "https://localhost:8080/",
          "height": 158
        },
        "id": "rveDLj5yifej",
        "outputId": "a471c8fa-6c3f-4b6f-919c-837dddc56e01"
      },
      "execution_count": 42,
      "outputs": [
        {
          "output_type": "error",
          "ename": "TypeError",
          "evalue": "unhashable type: 'list'",
          "traceback": [
            "\u001b[0;31m---------------------------------------------------------------------------\u001b[0m",
            "\u001b[0;31mTypeError\u001b[0m                                 Traceback (most recent call last)",
            "\u001b[0;32m<ipython-input-42-f2a9ab16526f>\u001b[0m in \u001b[0;36m<cell line: 2>\u001b[0;34m()\u001b[0m\n\u001b[1;32m      1\u001b[0m \u001b[0;31m# Attempt to use a list as a dictionary key (raises TypeError)\u001b[0m\u001b[0;34m\u001b[0m\u001b[0;34m\u001b[0m\u001b[0m\n\u001b[0;32m----> 2\u001b[0;31m \u001b[0mmy_dict\u001b[0m \u001b[0;34m=\u001b[0m \u001b[0;34m{\u001b[0m\u001b[0;34m[\u001b[0m\u001b[0;36m1\u001b[0m\u001b[0;34m,\u001b[0m \u001b[0;36m2\u001b[0m\u001b[0;34m,\u001b[0m \u001b[0;36m3\u001b[0m\u001b[0;34m]\u001b[0m\u001b[0;34m:\u001b[0m \u001b[0;34m\"list\"\u001b[0m\u001b[0;34m}\u001b[0m  \u001b[0;31m# TypeError: unhashable type: 'list'\u001b[0m\u001b[0;34m\u001b[0m\u001b[0;34m\u001b[0m\u001b[0m\n\u001b[0m",
            "\u001b[0;31mTypeError\u001b[0m: unhashable type: 'list'"
          ]
        }
      ]
    },
    {
      "cell_type": "markdown",
      "source": [
        "* Sets: Regular sets are also mutable, and thus cannot be used as dictionary keys."
      ],
      "metadata": {
        "id": "lATpn5HPiRW9"
      }
    },
    {
      "cell_type": "code",
      "source": [
        "# Attempt to use a set as a dictionary key (raises TypeError)\n",
        "my_dict = {{1, 2, 3}: \"set\"}  # TypeError: unhashable type: 'set'\n"
      ],
      "metadata": {
        "colab": {
          "base_uri": "https://localhost:8080/",
          "height": 158
        },
        "id": "SULhdmBjit0c",
        "outputId": "d934d763-9429-4881-fd87-6e2434326f3f"
      },
      "execution_count": 43,
      "outputs": [
        {
          "output_type": "error",
          "ename": "TypeError",
          "evalue": "unhashable type: 'set'",
          "traceback": [
            "\u001b[0;31m---------------------------------------------------------------------------\u001b[0m",
            "\u001b[0;31mTypeError\u001b[0m                                 Traceback (most recent call last)",
            "\u001b[0;32m<ipython-input-43-54cad22b6fbb>\u001b[0m in \u001b[0;36m<cell line: 2>\u001b[0;34m()\u001b[0m\n\u001b[1;32m      1\u001b[0m \u001b[0;31m# Attempt to use a set as a dictionary key (raises TypeError)\u001b[0m\u001b[0;34m\u001b[0m\u001b[0;34m\u001b[0m\u001b[0m\n\u001b[0;32m----> 2\u001b[0;31m \u001b[0mmy_dict\u001b[0m \u001b[0;34m=\u001b[0m \u001b[0;34m{\u001b[0m\u001b[0;34m{\u001b[0m\u001b[0;36m1\u001b[0m\u001b[0;34m,\u001b[0m \u001b[0;36m2\u001b[0m\u001b[0;34m,\u001b[0m \u001b[0;36m3\u001b[0m\u001b[0;34m}\u001b[0m\u001b[0;34m:\u001b[0m \u001b[0;34m\"set\"\u001b[0m\u001b[0;34m}\u001b[0m  \u001b[0;31m# TypeError: unhashable type: 'set'\u001b[0m\u001b[0;34m\u001b[0m\u001b[0;34m\u001b[0m\u001b[0m\n\u001b[0m",
            "\u001b[0;31mTypeError\u001b[0m: unhashable type: 'set'"
          ]
        }
      ]
    },
    {
      "cell_type": "markdown",
      "source": [
        "* Dictionaries: Like lists and sets, dictionaries are mutable and cannot be used as keys."
      ],
      "metadata": {
        "id": "w20OI8lKixIc"
      }
    },
    {
      "cell_type": "code",
      "source": [
        "# Attempt to use a dictionary as a dictionary key (raises TypeError)\n",
        "my_dict = {{'a': 1}: \"nested_dict\"}  # TypeError: unhashable type: 'dict'\n"
      ],
      "metadata": {
        "colab": {
          "base_uri": "https://localhost:8080/",
          "height": 158
        },
        "id": "wJYZ_FW7i8JD",
        "outputId": "07c187be-1e5a-47a2-989c-23a02f1cadd9"
      },
      "execution_count": 44,
      "outputs": [
        {
          "output_type": "error",
          "ename": "TypeError",
          "evalue": "unhashable type: 'dict'",
          "traceback": [
            "\u001b[0;31m---------------------------------------------------------------------------\u001b[0m",
            "\u001b[0;31mTypeError\u001b[0m                                 Traceback (most recent call last)",
            "\u001b[0;32m<ipython-input-44-f1fbbe55f1de>\u001b[0m in \u001b[0;36m<cell line: 2>\u001b[0;34m()\u001b[0m\n\u001b[1;32m      1\u001b[0m \u001b[0;31m# Attempt to use a dictionary as a dictionary key (raises TypeError)\u001b[0m\u001b[0;34m\u001b[0m\u001b[0;34m\u001b[0m\u001b[0m\n\u001b[0;32m----> 2\u001b[0;31m \u001b[0mmy_dict\u001b[0m \u001b[0;34m=\u001b[0m \u001b[0;34m{\u001b[0m\u001b[0;34m{\u001b[0m\u001b[0;34m'a'\u001b[0m\u001b[0;34m:\u001b[0m \u001b[0;36m1\u001b[0m\u001b[0;34m}\u001b[0m\u001b[0;34m:\u001b[0m \u001b[0;34m\"nested_dict\"\u001b[0m\u001b[0;34m}\u001b[0m  \u001b[0;31m# TypeError: unhashable type: 'dict'\u001b[0m\u001b[0;34m\u001b[0m\u001b[0;34m\u001b[0m\u001b[0m\n\u001b[0m",
            "\u001b[0;31mTypeError\u001b[0m: unhashable type: 'dict'"
          ]
        }
      ]
    },
    {
      "cell_type": "markdown",
      "source": [
        "***What Happens When You Try to Use a Mutable Object as a Key?***\n",
        "\n",
        "If you try to use a mutable object (e.g., a list or set) as a dictionary key, Python will raise a TypeError because mutable objects are not hashable. Since their hash value can change over time (because they are mutable), they cannot be reliably used as dictionary keys."
      ],
      "metadata": {
        "id": "CUPV64dsi_mD"
      }
    },
    {
      "cell_type": "code",
      "source": [
        "# Example of trying to use a list as a key\n",
        "my_dict = {}\n",
        "my_dict[[1, 2, 3]] = \"Hello\"  # TypeError: unhashable type: 'list'\n"
      ],
      "metadata": {
        "colab": {
          "base_uri": "https://localhost:8080/",
          "height": 176
        },
        "id": "7sLaii0OjHU7",
        "outputId": "174021d8-c600-4c26-ad55-97649bc0f443"
      },
      "execution_count": 45,
      "outputs": [
        {
          "output_type": "error",
          "ename": "TypeError",
          "evalue": "unhashable type: 'list'",
          "traceback": [
            "\u001b[0;31m---------------------------------------------------------------------------\u001b[0m",
            "\u001b[0;31mTypeError\u001b[0m                                 Traceback (most recent call last)",
            "\u001b[0;32m<ipython-input-45-abd4781edc6a>\u001b[0m in \u001b[0;36m<cell line: 3>\u001b[0;34m()\u001b[0m\n\u001b[1;32m      1\u001b[0m \u001b[0;31m# Example of trying to use a list as a key\u001b[0m\u001b[0;34m\u001b[0m\u001b[0;34m\u001b[0m\u001b[0m\n\u001b[1;32m      2\u001b[0m \u001b[0mmy_dict\u001b[0m \u001b[0;34m=\u001b[0m \u001b[0;34m{\u001b[0m\u001b[0;34m}\u001b[0m\u001b[0;34m\u001b[0m\u001b[0;34m\u001b[0m\u001b[0m\n\u001b[0;32m----> 3\u001b[0;31m \u001b[0mmy_dict\u001b[0m\u001b[0;34m[\u001b[0m\u001b[0;34m[\u001b[0m\u001b[0;36m1\u001b[0m\u001b[0;34m,\u001b[0m \u001b[0;36m2\u001b[0m\u001b[0;34m,\u001b[0m \u001b[0;36m3\u001b[0m\u001b[0;34m]\u001b[0m\u001b[0;34m]\u001b[0m \u001b[0;34m=\u001b[0m \u001b[0;34m\"Hello\"\u001b[0m  \u001b[0;31m# TypeError: unhashable type: 'list'\u001b[0m\u001b[0;34m\u001b[0m\u001b[0;34m\u001b[0m\u001b[0m\n\u001b[0m",
            "\u001b[0;31mTypeError\u001b[0m: unhashable type: 'list'"
          ]
        }
      ]
    },
    {
      "cell_type": "markdown",
      "source": [
        "***Why Is This Restriction Important?***\n",
        "\n",
        "*** Key Consistency:***\n",
        "* A dictionary relies on the hash values of keys for fast lookups, insertion, and deletion. If the hash of a key can change (because the key is mutable), the dictionary would no longer be able to reliably locate the key.\n",
        "\n",
        "***Memory Efficiency:***\n",
        "* Hash tables (which dictionaries are implemented as) are optimized for fast access. Using immutable objects as keys ensures that once a key is hashed, its hash value remains consistent. This stability is crucial for maintaining efficient access to dictionary entries.\n",
        "\n",
        "*** Avoiding Errors in Code:***\n",
        "* If mutable objects were allowed as keys, you could accidentally modify the key after it has been inserted into the dictionary, leading to confusion, bugs, and hard-to-track errors. For example, you could change the contents of a list used as a key, causing the dictionary to lose track of that key-value pair."
      ],
      "metadata": {
        "id": "9Gj6mdj2jL8j"
      }
    },
    {
      "cell_type": "code",
      "source": [],
      "metadata": {
        "id": "oi95C5eIh25q"
      },
      "execution_count": null,
      "outputs": []
    }
  ]
}